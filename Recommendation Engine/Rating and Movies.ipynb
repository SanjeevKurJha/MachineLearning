{
 "cells": [
  {
   "cell_type": "markdown",
   "metadata": {},
   "source": [
    "### Importing the library"
   ]
  },
  {
   "cell_type": "code",
   "execution_count": 193,
   "metadata": {},
   "outputs": [],
   "source": [
    "import numpy as np\n",
    "import pandas as pd\n",
    "import matplotlib.pyplot as plt\n",
    "%matplotlib inline "
   ]
  },
  {
   "cell_type": "markdown",
   "metadata": {},
   "source": [
    "### Importing the dataset [URL](https://grouplens.org/datasets/movielens/)"
   ]
  },
  {
   "cell_type": "code",
   "execution_count": 194,
   "metadata": {},
   "outputs": [],
   "source": [
    "df_rating=pd.read_csv(\"ratings.csv\")"
   ]
  },
  {
   "cell_type": "markdown",
   "metadata": {},
   "source": [
    "#### Exploratory Data Analysis"
   ]
  },
  {
   "cell_type": "code",
   "execution_count": 195,
   "metadata": {},
   "outputs": [
    {
     "data": {
      "text/html": [
       "<div>\n",
       "<style scoped>\n",
       "    .dataframe tbody tr th:only-of-type {\n",
       "        vertical-align: middle;\n",
       "    }\n",
       "\n",
       "    .dataframe tbody tr th {\n",
       "        vertical-align: top;\n",
       "    }\n",
       "\n",
       "    .dataframe thead th {\n",
       "        text-align: right;\n",
       "    }\n",
       "</style>\n",
       "<table border=\"1\" class=\"dataframe\">\n",
       "  <thead>\n",
       "    <tr style=\"text-align: right;\">\n",
       "      <th></th>\n",
       "      <th>userId</th>\n",
       "      <th>movieId</th>\n",
       "      <th>rating</th>\n",
       "      <th>timestamp</th>\n",
       "    </tr>\n",
       "  </thead>\n",
       "  <tbody>\n",
       "    <tr>\n",
       "      <th>0</th>\n",
       "      <td>1</td>\n",
       "      <td>1</td>\n",
       "      <td>4.0</td>\n",
       "      <td>964982703</td>\n",
       "    </tr>\n",
       "    <tr>\n",
       "      <th>1</th>\n",
       "      <td>1</td>\n",
       "      <td>3</td>\n",
       "      <td>4.0</td>\n",
       "      <td>964981247</td>\n",
       "    </tr>\n",
       "    <tr>\n",
       "      <th>2</th>\n",
       "      <td>1</td>\n",
       "      <td>6</td>\n",
       "      <td>4.0</td>\n",
       "      <td>964982224</td>\n",
       "    </tr>\n",
       "    <tr>\n",
       "      <th>3</th>\n",
       "      <td>1</td>\n",
       "      <td>47</td>\n",
       "      <td>5.0</td>\n",
       "      <td>964983815</td>\n",
       "    </tr>\n",
       "    <tr>\n",
       "      <th>4</th>\n",
       "      <td>1</td>\n",
       "      <td>50</td>\n",
       "      <td>5.0</td>\n",
       "      <td>964982931</td>\n",
       "    </tr>\n",
       "  </tbody>\n",
       "</table>\n",
       "</div>"
      ],
      "text/plain": [
       "   userId  movieId  rating  timestamp\n",
       "0       1        1     4.0  964982703\n",
       "1       1        3     4.0  964981247\n",
       "2       1        6     4.0  964982224\n",
       "3       1       47     5.0  964983815\n",
       "4       1       50     5.0  964982931"
      ]
     },
     "execution_count": 195,
     "metadata": {},
     "output_type": "execute_result"
    }
   ],
   "source": [
    "df_rating.head()"
   ]
  },
  {
   "cell_type": "code",
   "execution_count": 196,
   "metadata": {},
   "outputs": [
    {
     "data": {
      "text/html": [
       "<div>\n",
       "<style scoped>\n",
       "    .dataframe tbody tr th:only-of-type {\n",
       "        vertical-align: middle;\n",
       "    }\n",
       "\n",
       "    .dataframe tbody tr th {\n",
       "        vertical-align: top;\n",
       "    }\n",
       "\n",
       "    .dataframe thead th {\n",
       "        text-align: right;\n",
       "    }\n",
       "</style>\n",
       "<table border=\"1\" class=\"dataframe\">\n",
       "  <thead>\n",
       "    <tr style=\"text-align: right;\">\n",
       "      <th></th>\n",
       "      <th>userId</th>\n",
       "      <th>movieId</th>\n",
       "      <th>rating</th>\n",
       "      <th>timestamp</th>\n",
       "    </tr>\n",
       "  </thead>\n",
       "  <tbody>\n",
       "    <tr>\n",
       "      <th>100831</th>\n",
       "      <td>610</td>\n",
       "      <td>166534</td>\n",
       "      <td>4.0</td>\n",
       "      <td>1493848402</td>\n",
       "    </tr>\n",
       "    <tr>\n",
       "      <th>100832</th>\n",
       "      <td>610</td>\n",
       "      <td>168248</td>\n",
       "      <td>5.0</td>\n",
       "      <td>1493850091</td>\n",
       "    </tr>\n",
       "    <tr>\n",
       "      <th>100833</th>\n",
       "      <td>610</td>\n",
       "      <td>168250</td>\n",
       "      <td>5.0</td>\n",
       "      <td>1494273047</td>\n",
       "    </tr>\n",
       "    <tr>\n",
       "      <th>100834</th>\n",
       "      <td>610</td>\n",
       "      <td>168252</td>\n",
       "      <td>5.0</td>\n",
       "      <td>1493846352</td>\n",
       "    </tr>\n",
       "    <tr>\n",
       "      <th>100835</th>\n",
       "      <td>610</td>\n",
       "      <td>170875</td>\n",
       "      <td>3.0</td>\n",
       "      <td>1493846415</td>\n",
       "    </tr>\n",
       "  </tbody>\n",
       "</table>\n",
       "</div>"
      ],
      "text/plain": [
       "        userId  movieId  rating   timestamp\n",
       "100831     610   166534     4.0  1493848402\n",
       "100832     610   168248     5.0  1493850091\n",
       "100833     610   168250     5.0  1494273047\n",
       "100834     610   168252     5.0  1493846352\n",
       "100835     610   170875     3.0  1493846415"
      ]
     },
     "execution_count": 196,
     "metadata": {},
     "output_type": "execute_result"
    }
   ],
   "source": [
    "df_rating.tail()"
   ]
  },
  {
   "cell_type": "markdown",
   "metadata": {},
   "source": [
    "#### Statistical Overview"
   ]
  },
  {
   "cell_type": "code",
   "execution_count": 197,
   "metadata": {},
   "outputs": [
    {
     "data": {
      "text/html": [
       "<div>\n",
       "<style scoped>\n",
       "    .dataframe tbody tr th:only-of-type {\n",
       "        vertical-align: middle;\n",
       "    }\n",
       "\n",
       "    .dataframe tbody tr th {\n",
       "        vertical-align: top;\n",
       "    }\n",
       "\n",
       "    .dataframe thead th {\n",
       "        text-align: right;\n",
       "    }\n",
       "</style>\n",
       "<table border=\"1\" class=\"dataframe\">\n",
       "  <thead>\n",
       "    <tr style=\"text-align: right;\">\n",
       "      <th></th>\n",
       "      <th>userId</th>\n",
       "      <th>movieId</th>\n",
       "      <th>rating</th>\n",
       "      <th>timestamp</th>\n",
       "    </tr>\n",
       "  </thead>\n",
       "  <tbody>\n",
       "    <tr>\n",
       "      <th>count</th>\n",
       "      <td>100836.000000</td>\n",
       "      <td>100836.000000</td>\n",
       "      <td>100836.000000</td>\n",
       "      <td>1.008360e+05</td>\n",
       "    </tr>\n",
       "    <tr>\n",
       "      <th>mean</th>\n",
       "      <td>326.127564</td>\n",
       "      <td>19435.295718</td>\n",
       "      <td>3.501557</td>\n",
       "      <td>1.205946e+09</td>\n",
       "    </tr>\n",
       "    <tr>\n",
       "      <th>std</th>\n",
       "      <td>182.618491</td>\n",
       "      <td>35530.987199</td>\n",
       "      <td>1.042529</td>\n",
       "      <td>2.162610e+08</td>\n",
       "    </tr>\n",
       "    <tr>\n",
       "      <th>min</th>\n",
       "      <td>1.000000</td>\n",
       "      <td>1.000000</td>\n",
       "      <td>0.500000</td>\n",
       "      <td>8.281246e+08</td>\n",
       "    </tr>\n",
       "    <tr>\n",
       "      <th>25%</th>\n",
       "      <td>177.000000</td>\n",
       "      <td>1199.000000</td>\n",
       "      <td>3.000000</td>\n",
       "      <td>1.019124e+09</td>\n",
       "    </tr>\n",
       "    <tr>\n",
       "      <th>50%</th>\n",
       "      <td>325.000000</td>\n",
       "      <td>2991.000000</td>\n",
       "      <td>3.500000</td>\n",
       "      <td>1.186087e+09</td>\n",
       "    </tr>\n",
       "    <tr>\n",
       "      <th>75%</th>\n",
       "      <td>477.000000</td>\n",
       "      <td>8122.000000</td>\n",
       "      <td>4.000000</td>\n",
       "      <td>1.435994e+09</td>\n",
       "    </tr>\n",
       "    <tr>\n",
       "      <th>max</th>\n",
       "      <td>610.000000</td>\n",
       "      <td>193609.000000</td>\n",
       "      <td>5.000000</td>\n",
       "      <td>1.537799e+09</td>\n",
       "    </tr>\n",
       "  </tbody>\n",
       "</table>\n",
       "</div>"
      ],
      "text/plain": [
       "              userId        movieId         rating     timestamp\n",
       "count  100836.000000  100836.000000  100836.000000  1.008360e+05\n",
       "mean      326.127564   19435.295718       3.501557  1.205946e+09\n",
       "std       182.618491   35530.987199       1.042529  2.162610e+08\n",
       "min         1.000000       1.000000       0.500000  8.281246e+08\n",
       "25%       177.000000    1199.000000       3.000000  1.019124e+09\n",
       "50%       325.000000    2991.000000       3.500000  1.186087e+09\n",
       "75%       477.000000    8122.000000       4.000000  1.435994e+09\n",
       "max       610.000000  193609.000000       5.000000  1.537799e+09"
      ]
     },
     "execution_count": 197,
     "metadata": {},
     "output_type": "execute_result"
    }
   ],
   "source": [
    "df_rating.describe()"
   ]
  },
  {
   "cell_type": "code",
   "execution_count": 198,
   "metadata": {},
   "outputs": [
    {
     "name": "stdout",
     "output_type": "stream",
     "text": [
      "<class 'pandas.core.frame.DataFrame'>\n",
      "RangeIndex: 100836 entries, 0 to 100835\n",
      "Data columns (total 4 columns):\n",
      "userId       100836 non-null int64\n",
      "movieId      100836 non-null int64\n",
      "rating       100836 non-null float64\n",
      "timestamp    100836 non-null int64\n",
      "dtypes: float64(1), int64(3)\n",
      "memory usage: 3.1 MB\n"
     ]
    }
   ],
   "source": [
    "df_rating.info()"
   ]
  },
  {
   "cell_type": "markdown",
   "metadata": {},
   "source": [
    "#### Selected columns"
   ]
  },
  {
   "cell_type": "code",
   "execution_count": 199,
   "metadata": {},
   "outputs": [],
   "source": [
    "col_rating=[\"userId\",\"movieId\",\"rating\"]"
   ]
  },
  {
   "cell_type": "markdown",
   "metadata": {},
   "source": [
    "#### Importing Movies dataset"
   ]
  },
  {
   "cell_type": "code",
   "execution_count": 200,
   "metadata": {},
   "outputs": [],
   "source": [
    "df_movies=pd.read_csv(\"movies.csv\")"
   ]
  },
  {
   "cell_type": "code",
   "execution_count": 201,
   "metadata": {},
   "outputs": [
    {
     "data": {
      "text/html": [
       "<div>\n",
       "<style scoped>\n",
       "    .dataframe tbody tr th:only-of-type {\n",
       "        vertical-align: middle;\n",
       "    }\n",
       "\n",
       "    .dataframe tbody tr th {\n",
       "        vertical-align: top;\n",
       "    }\n",
       "\n",
       "    .dataframe thead th {\n",
       "        text-align: right;\n",
       "    }\n",
       "</style>\n",
       "<table border=\"1\" class=\"dataframe\">\n",
       "  <thead>\n",
       "    <tr style=\"text-align: right;\">\n",
       "      <th></th>\n",
       "      <th>movieId</th>\n",
       "      <th>title</th>\n",
       "      <th>genres</th>\n",
       "    </tr>\n",
       "  </thead>\n",
       "  <tbody>\n",
       "    <tr>\n",
       "      <th>0</th>\n",
       "      <td>1</td>\n",
       "      <td>Toy Story (1995)</td>\n",
       "      <td>Adventure|Animation|Children|Comedy|Fantasy</td>\n",
       "    </tr>\n",
       "    <tr>\n",
       "      <th>1</th>\n",
       "      <td>2</td>\n",
       "      <td>Jumanji (1995)</td>\n",
       "      <td>Adventure|Children|Fantasy</td>\n",
       "    </tr>\n",
       "    <tr>\n",
       "      <th>2</th>\n",
       "      <td>3</td>\n",
       "      <td>Grumpier Old Men (1995)</td>\n",
       "      <td>Comedy|Romance</td>\n",
       "    </tr>\n",
       "    <tr>\n",
       "      <th>3</th>\n",
       "      <td>4</td>\n",
       "      <td>Waiting to Exhale (1995)</td>\n",
       "      <td>Comedy|Drama|Romance</td>\n",
       "    </tr>\n",
       "    <tr>\n",
       "      <th>4</th>\n",
       "      <td>5</td>\n",
       "      <td>Father of the Bride Part II (1995)</td>\n",
       "      <td>Comedy</td>\n",
       "    </tr>\n",
       "  </tbody>\n",
       "</table>\n",
       "</div>"
      ],
      "text/plain": [
       "   movieId                               title  \\\n",
       "0        1                    Toy Story (1995)   \n",
       "1        2                      Jumanji (1995)   \n",
       "2        3             Grumpier Old Men (1995)   \n",
       "3        4            Waiting to Exhale (1995)   \n",
       "4        5  Father of the Bride Part II (1995)   \n",
       "\n",
       "                                        genres  \n",
       "0  Adventure|Animation|Children|Comedy|Fantasy  \n",
       "1                   Adventure|Children|Fantasy  \n",
       "2                               Comedy|Romance  \n",
       "3                         Comedy|Drama|Romance  \n",
       "4                                       Comedy  "
      ]
     },
     "execution_count": 201,
     "metadata": {},
     "output_type": "execute_result"
    }
   ],
   "source": [
    "df_movies.head()"
   ]
  },
  {
   "cell_type": "code",
   "execution_count": 202,
   "metadata": {},
   "outputs": [
    {
     "data": {
      "text/html": [
       "<div>\n",
       "<style scoped>\n",
       "    .dataframe tbody tr th:only-of-type {\n",
       "        vertical-align: middle;\n",
       "    }\n",
       "\n",
       "    .dataframe tbody tr th {\n",
       "        vertical-align: top;\n",
       "    }\n",
       "\n",
       "    .dataframe thead th {\n",
       "        text-align: right;\n",
       "    }\n",
       "</style>\n",
       "<table border=\"1\" class=\"dataframe\">\n",
       "  <thead>\n",
       "    <tr style=\"text-align: right;\">\n",
       "      <th></th>\n",
       "      <th>movieId</th>\n",
       "      <th>title</th>\n",
       "      <th>genres</th>\n",
       "    </tr>\n",
       "  </thead>\n",
       "  <tbody>\n",
       "    <tr>\n",
       "      <th>9737</th>\n",
       "      <td>193581</td>\n",
       "      <td>Black Butler: Book of the Atlantic (2017)</td>\n",
       "      <td>Action|Animation|Comedy|Fantasy</td>\n",
       "    </tr>\n",
       "    <tr>\n",
       "      <th>9738</th>\n",
       "      <td>193583</td>\n",
       "      <td>No Game No Life: Zero (2017)</td>\n",
       "      <td>Animation|Comedy|Fantasy</td>\n",
       "    </tr>\n",
       "    <tr>\n",
       "      <th>9739</th>\n",
       "      <td>193585</td>\n",
       "      <td>Flint (2017)</td>\n",
       "      <td>Drama</td>\n",
       "    </tr>\n",
       "    <tr>\n",
       "      <th>9740</th>\n",
       "      <td>193587</td>\n",
       "      <td>Bungo Stray Dogs: Dead Apple (2018)</td>\n",
       "      <td>Action|Animation</td>\n",
       "    </tr>\n",
       "    <tr>\n",
       "      <th>9741</th>\n",
       "      <td>193609</td>\n",
       "      <td>Andrew Dice Clay: Dice Rules (1991)</td>\n",
       "      <td>Comedy</td>\n",
       "    </tr>\n",
       "  </tbody>\n",
       "</table>\n",
       "</div>"
      ],
      "text/plain": [
       "      movieId                                      title  \\\n",
       "9737   193581  Black Butler: Book of the Atlantic (2017)   \n",
       "9738   193583               No Game No Life: Zero (2017)   \n",
       "9739   193585                               Flint (2017)   \n",
       "9740   193587        Bungo Stray Dogs: Dead Apple (2018)   \n",
       "9741   193609        Andrew Dice Clay: Dice Rules (1991)   \n",
       "\n",
       "                               genres  \n",
       "9737  Action|Animation|Comedy|Fantasy  \n",
       "9738         Animation|Comedy|Fantasy  \n",
       "9739                            Drama  \n",
       "9740                 Action|Animation  \n",
       "9741                           Comedy  "
      ]
     },
     "execution_count": 202,
     "metadata": {},
     "output_type": "execute_result"
    }
   ],
   "source": [
    "df_movies.tail()"
   ]
  },
  {
   "cell_type": "code",
   "execution_count": 203,
   "metadata": {},
   "outputs": [
    {
     "data": {
      "text/html": [
       "<div>\n",
       "<style scoped>\n",
       "    .dataframe tbody tr th:only-of-type {\n",
       "        vertical-align: middle;\n",
       "    }\n",
       "\n",
       "    .dataframe tbody tr th {\n",
       "        vertical-align: top;\n",
       "    }\n",
       "\n",
       "    .dataframe thead th {\n",
       "        text-align: right;\n",
       "    }\n",
       "</style>\n",
       "<table border=\"1\" class=\"dataframe\">\n",
       "  <thead>\n",
       "    <tr style=\"text-align: right;\">\n",
       "      <th></th>\n",
       "      <th>movieId</th>\n",
       "    </tr>\n",
       "  </thead>\n",
       "  <tbody>\n",
       "    <tr>\n",
       "      <th>count</th>\n",
       "      <td>9742.000000</td>\n",
       "    </tr>\n",
       "    <tr>\n",
       "      <th>mean</th>\n",
       "      <td>42200.353623</td>\n",
       "    </tr>\n",
       "    <tr>\n",
       "      <th>std</th>\n",
       "      <td>52160.494854</td>\n",
       "    </tr>\n",
       "    <tr>\n",
       "      <th>min</th>\n",
       "      <td>1.000000</td>\n",
       "    </tr>\n",
       "    <tr>\n",
       "      <th>25%</th>\n",
       "      <td>3248.250000</td>\n",
       "    </tr>\n",
       "    <tr>\n",
       "      <th>50%</th>\n",
       "      <td>7300.000000</td>\n",
       "    </tr>\n",
       "    <tr>\n",
       "      <th>75%</th>\n",
       "      <td>76232.000000</td>\n",
       "    </tr>\n",
       "    <tr>\n",
       "      <th>max</th>\n",
       "      <td>193609.000000</td>\n",
       "    </tr>\n",
       "  </tbody>\n",
       "</table>\n",
       "</div>"
      ],
      "text/plain": [
       "             movieId\n",
       "count    9742.000000\n",
       "mean    42200.353623\n",
       "std     52160.494854\n",
       "min         1.000000\n",
       "25%      3248.250000\n",
       "50%      7300.000000\n",
       "75%     76232.000000\n",
       "max    193609.000000"
      ]
     },
     "execution_count": 203,
     "metadata": {},
     "output_type": "execute_result"
    }
   ],
   "source": [
    "df_movies.describe()"
   ]
  },
  {
   "cell_type": "code",
   "execution_count": 204,
   "metadata": {},
   "outputs": [
    {
     "data": {
      "text/html": [
       "<div>\n",
       "<style scoped>\n",
       "    .dataframe tbody tr th:only-of-type {\n",
       "        vertical-align: middle;\n",
       "    }\n",
       "\n",
       "    .dataframe tbody tr th {\n",
       "        vertical-align: top;\n",
       "    }\n",
       "\n",
       "    .dataframe thead th {\n",
       "        text-align: right;\n",
       "    }\n",
       "</style>\n",
       "<table border=\"1\" class=\"dataframe\">\n",
       "  <thead>\n",
       "    <tr style=\"text-align: right;\">\n",
       "      <th></th>\n",
       "      <th>movieId</th>\n",
       "      <th>title</th>\n",
       "      <th>genres</th>\n",
       "    </tr>\n",
       "  </thead>\n",
       "  <tbody>\n",
       "    <tr>\n",
       "      <th>count</th>\n",
       "      <td>9742.000000</td>\n",
       "      <td>9742</td>\n",
       "      <td>9742</td>\n",
       "    </tr>\n",
       "    <tr>\n",
       "      <th>unique</th>\n",
       "      <td>NaN</td>\n",
       "      <td>9737</td>\n",
       "      <td>951</td>\n",
       "    </tr>\n",
       "    <tr>\n",
       "      <th>top</th>\n",
       "      <td>NaN</td>\n",
       "      <td>Eros (2004)</td>\n",
       "      <td>Drama</td>\n",
       "    </tr>\n",
       "    <tr>\n",
       "      <th>freq</th>\n",
       "      <td>NaN</td>\n",
       "      <td>2</td>\n",
       "      <td>1053</td>\n",
       "    </tr>\n",
       "    <tr>\n",
       "      <th>mean</th>\n",
       "      <td>42200.353623</td>\n",
       "      <td>NaN</td>\n",
       "      <td>NaN</td>\n",
       "    </tr>\n",
       "    <tr>\n",
       "      <th>std</th>\n",
       "      <td>52160.494854</td>\n",
       "      <td>NaN</td>\n",
       "      <td>NaN</td>\n",
       "    </tr>\n",
       "    <tr>\n",
       "      <th>min</th>\n",
       "      <td>1.000000</td>\n",
       "      <td>NaN</td>\n",
       "      <td>NaN</td>\n",
       "    </tr>\n",
       "    <tr>\n",
       "      <th>25%</th>\n",
       "      <td>3248.250000</td>\n",
       "      <td>NaN</td>\n",
       "      <td>NaN</td>\n",
       "    </tr>\n",
       "    <tr>\n",
       "      <th>50%</th>\n",
       "      <td>7300.000000</td>\n",
       "      <td>NaN</td>\n",
       "      <td>NaN</td>\n",
       "    </tr>\n",
       "    <tr>\n",
       "      <th>75%</th>\n",
       "      <td>76232.000000</td>\n",
       "      <td>NaN</td>\n",
       "      <td>NaN</td>\n",
       "    </tr>\n",
       "    <tr>\n",
       "      <th>max</th>\n",
       "      <td>193609.000000</td>\n",
       "      <td>NaN</td>\n",
       "      <td>NaN</td>\n",
       "    </tr>\n",
       "  </tbody>\n",
       "</table>\n",
       "</div>"
      ],
      "text/plain": [
       "              movieId        title genres\n",
       "count     9742.000000         9742   9742\n",
       "unique            NaN         9737    951\n",
       "top               NaN  Eros (2004)  Drama\n",
       "freq              NaN            2   1053\n",
       "mean     42200.353623          NaN    NaN\n",
       "std      52160.494854          NaN    NaN\n",
       "min          1.000000          NaN    NaN\n",
       "25%       3248.250000          NaN    NaN\n",
       "50%       7300.000000          NaN    NaN\n",
       "75%      76232.000000          NaN    NaN\n",
       "max     193609.000000          NaN    NaN"
      ]
     },
     "execution_count": 204,
     "metadata": {},
     "output_type": "execute_result"
    }
   ],
   "source": [
    "df_movies.describe(include=\"all\")"
   ]
  },
  {
   "cell_type": "code",
   "execution_count": 205,
   "metadata": {},
   "outputs": [
    {
     "name": "stdout",
     "output_type": "stream",
     "text": [
      "<class 'pandas.core.frame.DataFrame'>\n",
      "RangeIndex: 9742 entries, 0 to 9741\n",
      "Data columns (total 3 columns):\n",
      "movieId    9742 non-null int64\n",
      "title      9742 non-null object\n",
      "genres     9742 non-null object\n",
      "dtypes: int64(1), object(2)\n",
      "memory usage: 228.4+ KB\n"
     ]
    }
   ],
   "source": [
    "df_movies.info()"
   ]
  },
  {
   "cell_type": "code",
   "execution_count": 206,
   "metadata": {},
   "outputs": [
    {
     "data": {
      "text/plain": [
       "<bound method DataFrame.count of       movieId                                              title  \\\n",
       "0           1                                   Toy Story (1995)   \n",
       "1           2                                     Jumanji (1995)   \n",
       "2           3                            Grumpier Old Men (1995)   \n",
       "3           4                           Waiting to Exhale (1995)   \n",
       "4           5                 Father of the Bride Part II (1995)   \n",
       "5           6                                        Heat (1995)   \n",
       "6           7                                     Sabrina (1995)   \n",
       "7           8                                Tom and Huck (1995)   \n",
       "8           9                                Sudden Death (1995)   \n",
       "9          10                                   GoldenEye (1995)   \n",
       "10         11                     American President, The (1995)   \n",
       "11         12                 Dracula: Dead and Loving It (1995)   \n",
       "12         13                                       Balto (1995)   \n",
       "13         14                                       Nixon (1995)   \n",
       "14         15                            Cutthroat Island (1995)   \n",
       "15         16                                      Casino (1995)   \n",
       "16         17                       Sense and Sensibility (1995)   \n",
       "17         18                                  Four Rooms (1995)   \n",
       "18         19              Ace Ventura: When Nature Calls (1995)   \n",
       "19         20                                 Money Train (1995)   \n",
       "20         21                                  Get Shorty (1995)   \n",
       "21         22                                     Copycat (1995)   \n",
       "22         23                                   Assassins (1995)   \n",
       "23         24                                      Powder (1995)   \n",
       "24         25                           Leaving Las Vegas (1995)   \n",
       "25         26                                     Othello (1995)   \n",
       "26         27                                Now and Then (1995)   \n",
       "27         28                                  Persuasion (1995)   \n",
       "28         29  City of Lost Children, The (Cité des enfants p...   \n",
       "29         30  Shanghai Triad (Yao a yao yao dao waipo qiao) ...   \n",
       "...       ...                                                ...   \n",
       "9712   188189                         Sorry to Bother You (2018)   \n",
       "9713   188301                        Ant-Man and the Wasp (2018)   \n",
       "9714   188675                                      Dogman (2018)   \n",
       "9715   188751                Mamma Mia: Here We Go Again! (2018)   \n",
       "9716   188797                                         Tag (2018)   \n",
       "9717   188833              The Man Who Killed Don Quixote (2018)   \n",
       "9718   189043                                  Boundaries (2018)   \n",
       "9719   189111                                      Spiral (2018)   \n",
       "9720   189333               Mission: Impossible - Fallout (2018)   \n",
       "9721   189381                                    SuperFly (2018)   \n",
       "9722   189547                                Iron Soldier (2010)   \n",
       "9723   189713                              BlacKkKlansman (2018)   \n",
       "9724   190183                           The Darkest Minds (2018)   \n",
       "9725   190207                                        Tilt (2011)   \n",
       "9726   190209                 Jeff Ross Roasts the Border (2017)   \n",
       "9727   190213                                   John From (2015)   \n",
       "9728   190215                                Liquid Truth (2017)   \n",
       "9729   190219                                       Bunny (1998)   \n",
       "9730   190221  Hommage à Zgougou (et salut à Sabine Mamou) (2...   \n",
       "9731   191005                                     Gintama (2017)   \n",
       "9732   193565                          Gintama: The Movie (2010)   \n",
       "9733   193567  anohana: The Flower We Saw That Day - The Movi...   \n",
       "9734   193571                                Silver Spoon (2014)   \n",
       "9735   193573            Love Live! The School Idol Movie (2015)   \n",
       "9736   193579           Jon Stewart Has Left the Building (2015)   \n",
       "9737   193581          Black Butler: Book of the Atlantic (2017)   \n",
       "9738   193583                       No Game No Life: Zero (2017)   \n",
       "9739   193585                                       Flint (2017)   \n",
       "9740   193587                Bungo Stray Dogs: Dead Apple (2018)   \n",
       "9741   193609                Andrew Dice Clay: Dice Rules (1991)   \n",
       "\n",
       "                                           genres  \n",
       "0     Adventure|Animation|Children|Comedy|Fantasy  \n",
       "1                      Adventure|Children|Fantasy  \n",
       "2                                  Comedy|Romance  \n",
       "3                            Comedy|Drama|Romance  \n",
       "4                                          Comedy  \n",
       "5                           Action|Crime|Thriller  \n",
       "6                                  Comedy|Romance  \n",
       "7                              Adventure|Children  \n",
       "8                                          Action  \n",
       "9                       Action|Adventure|Thriller  \n",
       "10                           Comedy|Drama|Romance  \n",
       "11                                  Comedy|Horror  \n",
       "12                   Adventure|Animation|Children  \n",
       "13                                          Drama  \n",
       "14                       Action|Adventure|Romance  \n",
       "15                                    Crime|Drama  \n",
       "16                                  Drama|Romance  \n",
       "17                                         Comedy  \n",
       "18                                         Comedy  \n",
       "19             Action|Comedy|Crime|Drama|Thriller  \n",
       "20                          Comedy|Crime|Thriller  \n",
       "21            Crime|Drama|Horror|Mystery|Thriller  \n",
       "22                          Action|Crime|Thriller  \n",
       "23                                   Drama|Sci-Fi  \n",
       "24                                  Drama|Romance  \n",
       "25                                          Drama  \n",
       "26                                 Children|Drama  \n",
       "27                                  Drama|Romance  \n",
       "28         Adventure|Drama|Fantasy|Mystery|Sci-Fi  \n",
       "29                                    Crime|Drama  \n",
       "...                                           ...  \n",
       "9712                        Comedy|Fantasy|Sci-Fi  \n",
       "9713       Action|Adventure|Comedy|Fantasy|Sci-Fi  \n",
       "9714                                  Crime|Drama  \n",
       "9715                               Comedy|Romance  \n",
       "9716                                       Comedy  \n",
       "9717                     Adventure|Comedy|Fantasy  \n",
       "9718                                 Comedy|Drama  \n",
       "9719                                  Documentary  \n",
       "9720                    Action|Adventure|Thriller  \n",
       "9721                        Action|Crime|Thriller  \n",
       "9722                                Action|Sci-Fi  \n",
       "9723                           Comedy|Crime|Drama  \n",
       "9724                              Sci-Fi|Thriller  \n",
       "9725                                Drama|Romance  \n",
       "9726                                       Comedy  \n",
       "9727                                        Drama  \n",
       "9728                                        Drama  \n",
       "9729                                    Animation  \n",
       "9730                                  Documentary  \n",
       "9731               Action|Adventure|Comedy|Sci-Fi  \n",
       "9732               Action|Animation|Comedy|Sci-Fi  \n",
       "9733                              Animation|Drama  \n",
       "9734                                 Comedy|Drama  \n",
       "9735                                    Animation  \n",
       "9736                                  Documentary  \n",
       "9737              Action|Animation|Comedy|Fantasy  \n",
       "9738                     Animation|Comedy|Fantasy  \n",
       "9739                                        Drama  \n",
       "9740                             Action|Animation  \n",
       "9741                                       Comedy  \n",
       "\n",
       "[9742 rows x 3 columns]>"
      ]
     },
     "execution_count": 206,
     "metadata": {},
     "output_type": "execute_result"
    }
   ],
   "source": [
    "df_movies.count"
   ]
  },
  {
   "cell_type": "markdown",
   "metadata": {},
   "source": [
    "#### Columns Movies"
   ]
  },
  {
   "cell_type": "code",
   "execution_count": 207,
   "metadata": {},
   "outputs": [],
   "source": [
    "col_movies=[\"movieId\",\"title\"]"
   ]
  },
  {
   "cell_type": "markdown",
   "metadata": {},
   "source": [
    "#### combine movies and rating dataset based on movies id"
   ]
  },
  {
   "cell_type": "code",
   "execution_count": 208,
   "metadata": {},
   "outputs": [],
   "source": [
    "df_mr=pd.merge(df_rating[col_rating],df_movies[col_movies],how='left',left_on=\"movieId\",right_on=\"movieId\")"
   ]
  },
  {
   "cell_type": "code",
   "execution_count": 209,
   "metadata": {},
   "outputs": [
    {
     "data": {
      "text/html": [
       "<div>\n",
       "<style scoped>\n",
       "    .dataframe tbody tr th:only-of-type {\n",
       "        vertical-align: middle;\n",
       "    }\n",
       "\n",
       "    .dataframe tbody tr th {\n",
       "        vertical-align: top;\n",
       "    }\n",
       "\n",
       "    .dataframe thead th {\n",
       "        text-align: right;\n",
       "    }\n",
       "</style>\n",
       "<table border=\"1\" class=\"dataframe\">\n",
       "  <thead>\n",
       "    <tr style=\"text-align: right;\">\n",
       "      <th></th>\n",
       "      <th>userId</th>\n",
       "      <th>movieId</th>\n",
       "      <th>rating</th>\n",
       "      <th>title</th>\n",
       "    </tr>\n",
       "  </thead>\n",
       "  <tbody>\n",
       "    <tr>\n",
       "      <th>0</th>\n",
       "      <td>1</td>\n",
       "      <td>1</td>\n",
       "      <td>4.0</td>\n",
       "      <td>Toy Story (1995)</td>\n",
       "    </tr>\n",
       "    <tr>\n",
       "      <th>1</th>\n",
       "      <td>1</td>\n",
       "      <td>3</td>\n",
       "      <td>4.0</td>\n",
       "      <td>Grumpier Old Men (1995)</td>\n",
       "    </tr>\n",
       "    <tr>\n",
       "      <th>2</th>\n",
       "      <td>1</td>\n",
       "      <td>6</td>\n",
       "      <td>4.0</td>\n",
       "      <td>Heat (1995)</td>\n",
       "    </tr>\n",
       "    <tr>\n",
       "      <th>3</th>\n",
       "      <td>1</td>\n",
       "      <td>47</td>\n",
       "      <td>5.0</td>\n",
       "      <td>Seven (a.k.a. Se7en) (1995)</td>\n",
       "    </tr>\n",
       "    <tr>\n",
       "      <th>4</th>\n",
       "      <td>1</td>\n",
       "      <td>50</td>\n",
       "      <td>5.0</td>\n",
       "      <td>Usual Suspects, The (1995)</td>\n",
       "    </tr>\n",
       "  </tbody>\n",
       "</table>\n",
       "</div>"
      ],
      "text/plain": [
       "   userId  movieId  rating                        title\n",
       "0       1        1     4.0             Toy Story (1995)\n",
       "1       1        3     4.0      Grumpier Old Men (1995)\n",
       "2       1        6     4.0                  Heat (1995)\n",
       "3       1       47     5.0  Seven (a.k.a. Se7en) (1995)\n",
       "4       1       50     5.0   Usual Suspects, The (1995)"
      ]
     },
     "execution_count": 209,
     "metadata": {},
     "output_type": "execute_result"
    }
   ],
   "source": [
    "df_mr.head()"
   ]
  },
  {
   "cell_type": "code",
   "execution_count": 210,
   "metadata": {},
   "outputs": [
    {
     "data": {
      "text/html": [
       "<div>\n",
       "<style scoped>\n",
       "    .dataframe tbody tr th:only-of-type {\n",
       "        vertical-align: middle;\n",
       "    }\n",
       "\n",
       "    .dataframe tbody tr th {\n",
       "        vertical-align: top;\n",
       "    }\n",
       "\n",
       "    .dataframe thead th {\n",
       "        text-align: right;\n",
       "    }\n",
       "</style>\n",
       "<table border=\"1\" class=\"dataframe\">\n",
       "  <thead>\n",
       "    <tr style=\"text-align: right;\">\n",
       "      <th></th>\n",
       "      <th>userId</th>\n",
       "      <th>movieId</th>\n",
       "      <th>rating</th>\n",
       "      <th>title</th>\n",
       "    </tr>\n",
       "  </thead>\n",
       "  <tbody>\n",
       "    <tr>\n",
       "      <th>100831</th>\n",
       "      <td>610</td>\n",
       "      <td>166534</td>\n",
       "      <td>4.0</td>\n",
       "      <td>Split (2017)</td>\n",
       "    </tr>\n",
       "    <tr>\n",
       "      <th>100832</th>\n",
       "      <td>610</td>\n",
       "      <td>168248</td>\n",
       "      <td>5.0</td>\n",
       "      <td>John Wick: Chapter Two (2017)</td>\n",
       "    </tr>\n",
       "    <tr>\n",
       "      <th>100833</th>\n",
       "      <td>610</td>\n",
       "      <td>168250</td>\n",
       "      <td>5.0</td>\n",
       "      <td>Get Out (2017)</td>\n",
       "    </tr>\n",
       "    <tr>\n",
       "      <th>100834</th>\n",
       "      <td>610</td>\n",
       "      <td>168252</td>\n",
       "      <td>5.0</td>\n",
       "      <td>Logan (2017)</td>\n",
       "    </tr>\n",
       "    <tr>\n",
       "      <th>100835</th>\n",
       "      <td>610</td>\n",
       "      <td>170875</td>\n",
       "      <td>3.0</td>\n",
       "      <td>The Fate of the Furious (2017)</td>\n",
       "    </tr>\n",
       "  </tbody>\n",
       "</table>\n",
       "</div>"
      ],
      "text/plain": [
       "        userId  movieId  rating                           title\n",
       "100831     610   166534     4.0                    Split (2017)\n",
       "100832     610   168248     5.0   John Wick: Chapter Two (2017)\n",
       "100833     610   168250     5.0                  Get Out (2017)\n",
       "100834     610   168252     5.0                    Logan (2017)\n",
       "100835     610   170875     3.0  The Fate of the Furious (2017)"
      ]
     },
     "execution_count": 210,
     "metadata": {},
     "output_type": "execute_result"
    }
   ],
   "source": [
    "df_mr.tail()"
   ]
  },
  {
   "cell_type": "code",
   "execution_count": 211,
   "metadata": {},
   "outputs": [
    {
     "data": {
      "text/plain": [
       "<bound method DataFrame.count of         userId  movieId  rating                                      title\n",
       "0            1        1     4.0                           Toy Story (1995)\n",
       "1            1        3     4.0                    Grumpier Old Men (1995)\n",
       "2            1        6     4.0                                Heat (1995)\n",
       "3            1       47     5.0                Seven (a.k.a. Se7en) (1995)\n",
       "4            1       50     5.0                 Usual Suspects, The (1995)\n",
       "5            1       70     3.0                 From Dusk Till Dawn (1996)\n",
       "6            1      101     5.0                       Bottle Rocket (1996)\n",
       "7            1      110     4.0                          Braveheart (1995)\n",
       "8            1      151     5.0                             Rob Roy (1995)\n",
       "9            1      157     5.0                      Canadian Bacon (1995)\n",
       "10           1      163     5.0                           Desperado (1995)\n",
       "11           1      216     5.0                       Billy Madison (1995)\n",
       "12           1      223     3.0                              Clerks (1994)\n",
       "13           1      231     5.0     Dumb & Dumber (Dumb and Dumber) (1994)\n",
       "14           1      235     4.0                             Ed Wood (1994)\n",
       "15           1      260     5.0  Star Wars: Episode IV - A New Hope (1977)\n",
       "16           1      296     3.0                        Pulp Fiction (1994)\n",
       "17           1      316     3.0                            Stargate (1994)\n",
       "18           1      333     5.0                           Tommy Boy (1995)\n",
       "19           1      349     4.0            Clear and Present Danger (1994)\n",
       "20           1      356     4.0                        Forrest Gump (1994)\n",
       "21           1      362     5.0                    Jungle Book, The (1994)\n",
       "22           1      367     4.0                           Mask, The (1994)\n",
       "23           1      423     3.0                          Blown Away (1994)\n",
       "24           1      441     4.0                  Dazed and Confused (1993)\n",
       "25           1      457     5.0                       Fugitive, The (1993)\n",
       "26           1      480     4.0                       Jurassic Park (1993)\n",
       "27           1      500     3.0                      Mrs. Doubtfire (1993)\n",
       "28           1      527     5.0                    Schindler's List (1993)\n",
       "29           1      543     4.0        So I Married an Axe Murderer (1993)\n",
       "...        ...      ...     ...                                        ...\n",
       "100806     610   150401     3.0                         Close Range (2015)\n",
       "100807     610   152077     4.0                 10 Cloverfield Lane (2016)\n",
       "100808     610   152081     4.0                            Zootopia (2016)\n",
       "100809     610   152372     3.5                          Southbound (2016)\n",
       "100810     610   155064     3.5                      The Neon Demon (2016)\n",
       "100811     610   156371     5.0                Everybody Wants Some (2016)\n",
       "100812     610   156726     4.5                                Hush (2016)\n",
       "100813     610   157296     4.0                        Finding Dory (2016)\n",
       "100814     610   158238     5.0                       The Nice Guys (2016)\n",
       "100815     610   158721     3.5                          Gen-X Cops (1999)\n",
       "100816     610   158872     3.5                       Sausage Party (2016)\n",
       "100817     610   158956     3.0                        Kill Command (2016)\n",
       "100818     610   159093     3.0                    Now You See Me 2 (2016)\n",
       "100819     610   160080     3.0                        Ghostbusters (2016)\n",
       "100820     610   160341     2.5                           Bloodmoon (1997)\n",
       "100821     610   160527     4.5           Sympathy for the Underdog (1971)\n",
       "100822     610   160571     3.0                          Lights Out (2016)\n",
       "100823     610   160836     3.0                              Hazard (2005)\n",
       "100824     610   161582     4.0                  Hell or High Water (2016)\n",
       "100825     610   161634     4.0                       Don't Breathe (2016)\n",
       "100826     610   162350     3.5               The Magnificent Seven (2016)\n",
       "100827     610   163937     3.5                         Blair Witch (2016)\n",
       "100828     610   163981     3.5                                  31 (2016)\n",
       "100829     610   164179     5.0                             Arrival (2016)\n",
       "100830     610   166528     4.0        Rogue One: A Star Wars Story (2016)\n",
       "100831     610   166534     4.0                               Split (2017)\n",
       "100832     610   168248     5.0              John Wick: Chapter Two (2017)\n",
       "100833     610   168250     5.0                             Get Out (2017)\n",
       "100834     610   168252     5.0                               Logan (2017)\n",
       "100835     610   170875     3.0             The Fate of the Furious (2017)\n",
       "\n",
       "[100836 rows x 4 columns]>"
      ]
     },
     "execution_count": 211,
     "metadata": {},
     "output_type": "execute_result"
    }
   ],
   "source": [
    "df_mr.count"
   ]
  },
  {
   "cell_type": "code",
   "execution_count": 212,
   "metadata": {},
   "outputs": [
    {
     "data": {
      "text/html": [
       "<div>\n",
       "<style scoped>\n",
       "    .dataframe tbody tr th:only-of-type {\n",
       "        vertical-align: middle;\n",
       "    }\n",
       "\n",
       "    .dataframe tbody tr th {\n",
       "        vertical-align: top;\n",
       "    }\n",
       "\n",
       "    .dataframe thead th {\n",
       "        text-align: right;\n",
       "    }\n",
       "</style>\n",
       "<table border=\"1\" class=\"dataframe\">\n",
       "  <thead>\n",
       "    <tr style=\"text-align: right;\">\n",
       "      <th></th>\n",
       "      <th>userId</th>\n",
       "      <th>movieId</th>\n",
       "      <th>rating</th>\n",
       "    </tr>\n",
       "  </thead>\n",
       "  <tbody>\n",
       "    <tr>\n",
       "      <th>count</th>\n",
       "      <td>100836.000000</td>\n",
       "      <td>100836.000000</td>\n",
       "      <td>100836.000000</td>\n",
       "    </tr>\n",
       "    <tr>\n",
       "      <th>mean</th>\n",
       "      <td>326.127564</td>\n",
       "      <td>19435.295718</td>\n",
       "      <td>3.501557</td>\n",
       "    </tr>\n",
       "    <tr>\n",
       "      <th>std</th>\n",
       "      <td>182.618491</td>\n",
       "      <td>35530.987199</td>\n",
       "      <td>1.042529</td>\n",
       "    </tr>\n",
       "    <tr>\n",
       "      <th>min</th>\n",
       "      <td>1.000000</td>\n",
       "      <td>1.000000</td>\n",
       "      <td>0.500000</td>\n",
       "    </tr>\n",
       "    <tr>\n",
       "      <th>25%</th>\n",
       "      <td>177.000000</td>\n",
       "      <td>1199.000000</td>\n",
       "      <td>3.000000</td>\n",
       "    </tr>\n",
       "    <tr>\n",
       "      <th>50%</th>\n",
       "      <td>325.000000</td>\n",
       "      <td>2991.000000</td>\n",
       "      <td>3.500000</td>\n",
       "    </tr>\n",
       "    <tr>\n",
       "      <th>75%</th>\n",
       "      <td>477.000000</td>\n",
       "      <td>8122.000000</td>\n",
       "      <td>4.000000</td>\n",
       "    </tr>\n",
       "    <tr>\n",
       "      <th>max</th>\n",
       "      <td>610.000000</td>\n",
       "      <td>193609.000000</td>\n",
       "      <td>5.000000</td>\n",
       "    </tr>\n",
       "  </tbody>\n",
       "</table>\n",
       "</div>"
      ],
      "text/plain": [
       "              userId        movieId         rating\n",
       "count  100836.000000  100836.000000  100836.000000\n",
       "mean      326.127564   19435.295718       3.501557\n",
       "std       182.618491   35530.987199       1.042529\n",
       "min         1.000000       1.000000       0.500000\n",
       "25%       177.000000    1199.000000       3.000000\n",
       "50%       325.000000    2991.000000       3.500000\n",
       "75%       477.000000    8122.000000       4.000000\n",
       "max       610.000000  193609.000000       5.000000"
      ]
     },
     "execution_count": 212,
     "metadata": {},
     "output_type": "execute_result"
    }
   ],
   "source": [
    "df_mr.describe()"
   ]
  },
  {
   "cell_type": "code",
   "execution_count": 213,
   "metadata": {},
   "outputs": [
    {
     "name": "stdout",
     "output_type": "stream",
     "text": [
      "<class 'pandas.core.frame.DataFrame'>\n",
      "Int64Index: 100836 entries, 0 to 100835\n",
      "Data columns (total 4 columns):\n",
      "userId     100836 non-null int64\n",
      "movieId    100836 non-null int64\n",
      "rating     100836 non-null float64\n",
      "title      100836 non-null object\n",
      "dtypes: float64(1), int64(2), object(1)\n",
      "memory usage: 3.8+ MB\n"
     ]
    }
   ],
   "source": [
    "df_mr.info()"
   ]
  },
  {
   "cell_type": "markdown",
   "metadata": {},
   "source": [
    "#### Convert the above data into pivot table matrix form ( wher we are going to consider rows are unique user id and columns are unique movies id)"
   ]
  },
  {
   "cell_type": "code",
   "execution_count": 214,
   "metadata": {},
   "outputs": [],
   "source": [
    "pvt_table=df_mr.pivot_table(columns=[\"movieId\"],index=[\"userId\"],values=\"rating\")"
   ]
  },
  {
   "cell_type": "code",
   "execution_count": 215,
   "metadata": {},
   "outputs": [
    {
     "name": "stdout",
     "output_type": "stream",
     "text": [
      "movieId  1       2       3       4       5       6       7       8       \\\n",
      "userId                                                                    \n",
      "1           4.0     NaN     4.0     NaN     NaN     4.0     NaN     NaN   \n",
      "2           NaN     NaN     NaN     NaN     NaN     NaN     NaN     NaN   \n",
      "3           NaN     NaN     NaN     NaN     NaN     NaN     NaN     NaN   \n",
      "4           NaN     NaN     NaN     NaN     NaN     NaN     NaN     NaN   \n",
      "5           4.0     NaN     NaN     NaN     NaN     NaN     NaN     NaN   \n",
      "6           NaN     4.0     5.0     3.0     5.0     4.0     4.0     3.0   \n",
      "7           4.5     NaN     NaN     NaN     NaN     NaN     NaN     NaN   \n",
      "8           NaN     4.0     NaN     NaN     NaN     NaN     NaN     NaN   \n",
      "9           NaN     NaN     NaN     NaN     NaN     NaN     NaN     NaN   \n",
      "10          NaN     NaN     NaN     NaN     NaN     NaN     NaN     NaN   \n",
      "11          NaN     NaN     NaN     NaN     NaN     5.0     NaN     NaN   \n",
      "12          NaN     NaN     NaN     NaN     NaN     NaN     NaN     NaN   \n",
      "13          NaN     NaN     NaN     NaN     NaN     NaN     NaN     NaN   \n",
      "14          NaN     NaN     NaN     3.0     NaN     NaN     3.0     NaN   \n",
      "15          2.5     NaN     NaN     NaN     NaN     NaN     NaN     NaN   \n",
      "16          NaN     NaN     NaN     NaN     NaN     NaN     NaN     NaN   \n",
      "17          4.5     NaN     NaN     NaN     NaN     NaN     NaN     NaN   \n",
      "18          3.5     3.0     NaN     NaN     NaN     4.0     NaN     NaN   \n",
      "19          4.0     3.0     3.0     NaN     NaN     NaN     2.0     NaN   \n",
      "20          NaN     3.0     NaN     NaN     NaN     NaN     NaN     1.0   \n",
      "21          3.5     3.5     NaN     NaN     NaN     NaN     NaN     NaN   \n",
      "22          NaN     NaN     NaN     NaN     NaN     NaN     NaN     NaN   \n",
      "23          NaN     NaN     NaN     NaN     NaN     4.0     NaN     NaN   \n",
      "24          NaN     NaN     NaN     NaN     NaN     4.5     NaN     NaN   \n",
      "25          NaN     NaN     NaN     NaN     NaN     NaN     NaN     NaN   \n",
      "26          NaN     NaN     NaN     NaN     NaN     NaN     NaN     NaN   \n",
      "27          3.0     4.0     NaN     NaN     NaN     NaN     NaN     NaN   \n",
      "28          NaN     NaN     NaN     NaN     NaN     3.5     NaN     NaN   \n",
      "29          NaN     NaN     NaN     NaN     NaN     NaN     NaN     NaN   \n",
      "30          NaN     NaN     NaN     NaN     NaN     NaN     NaN     NaN   \n",
      "...         ...     ...     ...     ...     ...     ...     ...     ...   \n",
      "581         NaN     NaN     NaN     NaN     NaN     NaN     NaN     NaN   \n",
      "582         NaN     NaN     NaN     NaN     NaN     NaN     NaN     NaN   \n",
      "583         NaN     NaN     NaN     NaN     NaN     NaN     NaN     NaN   \n",
      "584         5.0     NaN     NaN     NaN     NaN     NaN     NaN     NaN   \n",
      "585         NaN     NaN     NaN     NaN     NaN     NaN     NaN     NaN   \n",
      "586         NaN     4.0     NaN     NaN     NaN     NaN     NaN     NaN   \n",
      "587         5.0     NaN     NaN     NaN     NaN     NaN     NaN     NaN   \n",
      "588         NaN     NaN     3.0     NaN     NaN     5.0     NaN     NaN   \n",
      "589         NaN     NaN     NaN     NaN     NaN     NaN     NaN     NaN   \n",
      "590         4.0     2.5     3.0     NaN     2.0     3.5     NaN     NaN   \n",
      "591         NaN     NaN     NaN     NaN     NaN     NaN     NaN     NaN   \n",
      "592         NaN     4.0     NaN     NaN     NaN     3.0     NaN     NaN   \n",
      "593         NaN     NaN     NaN     NaN     NaN     NaN     NaN     NaN   \n",
      "594         NaN     4.0     4.0     NaN     NaN     NaN     NaN     NaN   \n",
      "595         NaN     NaN     NaN     NaN     NaN     NaN     NaN     NaN   \n",
      "596         4.0     NaN     NaN     NaN     NaN     NaN     NaN     NaN   \n",
      "597         4.0     NaN     NaN     NaN     NaN     3.0     1.0     NaN   \n",
      "598         NaN     NaN     NaN     NaN     NaN     NaN     NaN     NaN   \n",
      "599         3.0     2.5     1.5     NaN     NaN     4.5     2.5     NaN   \n",
      "600         2.5     4.0     NaN     1.5     2.5     NaN     3.5     NaN   \n",
      "601         4.0     NaN     NaN     NaN     NaN     NaN     NaN     NaN   \n",
      "602         NaN     4.0     NaN     NaN     NaN     3.0     NaN     NaN   \n",
      "603         4.0     NaN     NaN     NaN     NaN     4.0     NaN     NaN   \n",
      "604         3.0     5.0     NaN     NaN     3.0     3.0     NaN     NaN   \n",
      "605         4.0     3.5     NaN     NaN     NaN     NaN     NaN     NaN   \n",
      "606         2.5     NaN     NaN     NaN     NaN     NaN     2.5     NaN   \n",
      "607         4.0     NaN     NaN     NaN     NaN     NaN     NaN     NaN   \n",
      "608         2.5     2.0     2.0     NaN     NaN     NaN     NaN     NaN   \n",
      "609         3.0     NaN     NaN     NaN     NaN     NaN     NaN     NaN   \n",
      "610         5.0     NaN     NaN     NaN     NaN     5.0     NaN     NaN   \n",
      "\n",
      "movieId  9       10      ...  193565  193567  193571  193573  193579  193581  \\\n",
      "userId                   ...                                                   \n",
      "1           NaN     NaN  ...     NaN     NaN     NaN     NaN     NaN     NaN   \n",
      "2           NaN     NaN  ...     NaN     NaN     NaN     NaN     NaN     NaN   \n",
      "3           NaN     NaN  ...     NaN     NaN     NaN     NaN     NaN     NaN   \n",
      "4           NaN     NaN  ...     NaN     NaN     NaN     NaN     NaN     NaN   \n",
      "5           NaN     NaN  ...     NaN     NaN     NaN     NaN     NaN     NaN   \n",
      "6           NaN     3.0  ...     NaN     NaN     NaN     NaN     NaN     NaN   \n",
      "7           NaN     NaN  ...     NaN     NaN     NaN     NaN     NaN     NaN   \n",
      "8           NaN     2.0  ...     NaN     NaN     NaN     NaN     NaN     NaN   \n",
      "9           NaN     NaN  ...     NaN     NaN     NaN     NaN     NaN     NaN   \n",
      "10          NaN     NaN  ...     NaN     NaN     NaN     NaN     NaN     NaN   \n",
      "11          NaN     3.0  ...     NaN     NaN     NaN     NaN     NaN     NaN   \n",
      "12          NaN     NaN  ...     NaN     NaN     NaN     NaN     NaN     NaN   \n",
      "13          NaN     NaN  ...     NaN     NaN     NaN     NaN     NaN     NaN   \n",
      "14          NaN     NaN  ...     NaN     NaN     NaN     NaN     NaN     NaN   \n",
      "15          NaN     NaN  ...     NaN     NaN     NaN     NaN     NaN     NaN   \n",
      "16          NaN     NaN  ...     NaN     NaN     NaN     NaN     NaN     NaN   \n",
      "17          NaN     NaN  ...     NaN     NaN     NaN     NaN     NaN     NaN   \n",
      "18          NaN     NaN  ...     NaN     NaN     NaN     NaN     NaN     NaN   \n",
      "19          NaN     2.0  ...     NaN     NaN     NaN     NaN     NaN     NaN   \n",
      "20          NaN     NaN  ...     NaN     NaN     NaN     NaN     NaN     NaN   \n",
      "21          NaN     5.0  ...     NaN     NaN     NaN     NaN     NaN     NaN   \n",
      "22          NaN     NaN  ...     NaN     NaN     NaN     NaN     NaN     NaN   \n",
      "23          NaN     NaN  ...     NaN     NaN     NaN     NaN     NaN     NaN   \n",
      "24          NaN     NaN  ...     NaN     NaN     NaN     NaN     NaN     NaN   \n",
      "25          NaN     NaN  ...     NaN     NaN     NaN     NaN     NaN     NaN   \n",
      "26          NaN     3.0  ...     NaN     NaN     NaN     NaN     NaN     NaN   \n",
      "27          NaN     NaN  ...     NaN     NaN     NaN     NaN     NaN     NaN   \n",
      "28          NaN     NaN  ...     NaN     NaN     NaN     NaN     NaN     NaN   \n",
      "29          NaN     NaN  ...     NaN     NaN     NaN     NaN     NaN     NaN   \n",
      "30          NaN     NaN  ...     NaN     NaN     NaN     NaN     NaN     NaN   \n",
      "...         ...     ...  ...     ...     ...     ...     ...     ...     ...   \n",
      "581         NaN     NaN  ...     NaN     NaN     NaN     NaN     NaN     NaN   \n",
      "582         NaN     NaN  ...     NaN     NaN     NaN     NaN     NaN     NaN   \n",
      "583         NaN     NaN  ...     NaN     NaN     NaN     NaN     NaN     NaN   \n",
      "584         NaN     5.0  ...     NaN     NaN     NaN     NaN     NaN     NaN   \n",
      "585         NaN     NaN  ...     NaN     NaN     NaN     NaN     NaN     NaN   \n",
      "586         NaN     NaN  ...     NaN     NaN     NaN     NaN     NaN     NaN   \n",
      "587         NaN     NaN  ...     NaN     NaN     NaN     NaN     NaN     NaN   \n",
      "588         NaN     3.0  ...     NaN     NaN     NaN     NaN     NaN     NaN   \n",
      "589         NaN     NaN  ...     NaN     NaN     NaN     NaN     NaN     NaN   \n",
      "590         NaN     3.5  ...     NaN     NaN     NaN     NaN     NaN     NaN   \n",
      "591         NaN     NaN  ...     NaN     NaN     NaN     NaN     NaN     NaN   \n",
      "592         NaN     3.0  ...     NaN     NaN     NaN     NaN     NaN     NaN   \n",
      "593         NaN     NaN  ...     NaN     NaN     NaN     NaN     NaN     NaN   \n",
      "594         NaN     NaN  ...     NaN     NaN     NaN     NaN     NaN     NaN   \n",
      "595         NaN     NaN  ...     NaN     NaN     NaN     NaN     NaN     NaN   \n",
      "596         NaN     NaN  ...     NaN     NaN     NaN     NaN     NaN     NaN   \n",
      "597         NaN     3.0  ...     NaN     NaN     NaN     NaN     NaN     NaN   \n",
      "598         NaN     NaN  ...     NaN     NaN     NaN     NaN     NaN     NaN   \n",
      "599         1.5     3.5  ...     NaN     NaN     NaN     NaN     NaN     NaN   \n",
      "600         NaN     NaN  ...     NaN     NaN     NaN     NaN     NaN     NaN   \n",
      "601         NaN     NaN  ...     NaN     NaN     NaN     NaN     NaN     NaN   \n",
      "602         NaN     3.0  ...     NaN     NaN     NaN     NaN     NaN     NaN   \n",
      "603         NaN     NaN  ...     NaN     NaN     NaN     NaN     NaN     NaN   \n",
      "604         NaN     NaN  ...     NaN     NaN     NaN     NaN     NaN     NaN   \n",
      "605         NaN     NaN  ...     NaN     NaN     NaN     NaN     NaN     NaN   \n",
      "606         NaN     NaN  ...     NaN     NaN     NaN     NaN     NaN     NaN   \n",
      "607         NaN     NaN  ...     NaN     NaN     NaN     NaN     NaN     NaN   \n",
      "608         NaN     4.0  ...     NaN     NaN     NaN     NaN     NaN     NaN   \n",
      "609         NaN     4.0  ...     NaN     NaN     NaN     NaN     NaN     NaN   \n",
      "610         NaN     NaN  ...     NaN     NaN     NaN     NaN     NaN     NaN   \n",
      "\n",
      "movieId  193583  193585  193587  193609  \n",
      "userId                                   \n",
      "1           NaN     NaN     NaN     NaN  \n",
      "2           NaN     NaN     NaN     NaN  \n",
      "3           NaN     NaN     NaN     NaN  \n",
      "4           NaN     NaN     NaN     NaN  \n",
      "5           NaN     NaN     NaN     NaN  \n",
      "6           NaN     NaN     NaN     NaN  \n",
      "7           NaN     NaN     NaN     NaN  \n",
      "8           NaN     NaN     NaN     NaN  \n",
      "9           NaN     NaN     NaN     NaN  \n",
      "10          NaN     NaN     NaN     NaN  \n",
      "11          NaN     NaN     NaN     NaN  \n",
      "12          NaN     NaN     NaN     NaN  \n",
      "13          NaN     NaN     NaN     NaN  \n",
      "14          NaN     NaN     NaN     NaN  \n",
      "15          NaN     NaN     NaN     NaN  \n",
      "16          NaN     NaN     NaN     NaN  \n",
      "17          NaN     NaN     NaN     NaN  \n",
      "18          NaN     NaN     NaN     NaN  \n",
      "19          NaN     NaN     NaN     NaN  \n",
      "20          NaN     NaN     NaN     NaN  \n",
      "21          NaN     NaN     NaN     NaN  \n",
      "22          NaN     NaN     NaN     NaN  \n",
      "23          NaN     NaN     NaN     NaN  \n",
      "24          NaN     NaN     NaN     NaN  \n",
      "25          NaN     NaN     NaN     NaN  \n",
      "26          NaN     NaN     NaN     NaN  \n",
      "27          NaN     NaN     NaN     NaN  \n",
      "28          NaN     NaN     NaN     NaN  \n",
      "29          NaN     NaN     NaN     NaN  \n",
      "30          NaN     NaN     NaN     NaN  \n",
      "...         ...     ...     ...     ...  \n",
      "581         NaN     NaN     NaN     NaN  \n",
      "582         NaN     NaN     NaN     NaN  \n",
      "583         NaN     NaN     NaN     NaN  \n",
      "584         NaN     NaN     NaN     NaN  \n",
      "585         NaN     NaN     NaN     NaN  \n",
      "586         NaN     NaN     NaN     NaN  \n",
      "587         NaN     NaN     NaN     NaN  \n",
      "588         NaN     NaN     NaN     NaN  \n",
      "589         NaN     NaN     NaN     NaN  \n",
      "590         NaN     NaN     NaN     NaN  \n",
      "591         NaN     NaN     NaN     NaN  \n",
      "592         NaN     NaN     NaN     NaN  \n",
      "593         NaN     NaN     NaN     NaN  \n",
      "594         NaN     NaN     NaN     NaN  \n",
      "595         NaN     NaN     NaN     NaN  \n",
      "596         NaN     NaN     NaN     NaN  \n",
      "597         NaN     NaN     NaN     NaN  \n",
      "598         NaN     NaN     NaN     NaN  \n",
      "599         NaN     NaN     NaN     NaN  \n",
      "600         NaN     NaN     NaN     NaN  \n",
      "601         NaN     NaN     NaN     NaN  \n",
      "602         NaN     NaN     NaN     NaN  \n",
      "603         NaN     NaN     NaN     NaN  \n",
      "604         NaN     NaN     NaN     NaN  \n",
      "605         NaN     NaN     NaN     NaN  \n",
      "606         NaN     NaN     NaN     NaN  \n",
      "607         NaN     NaN     NaN     NaN  \n",
      "608         NaN     NaN     NaN     NaN  \n",
      "609         NaN     NaN     NaN     NaN  \n",
      "610         NaN     NaN     NaN     NaN  \n",
      "\n",
      "[610 rows x 9724 columns]\n"
     ]
    }
   ],
   "source": [
    "print(pvt_table)"
   ]
  },
  {
   "cell_type": "markdown",
   "metadata": {},
   "source": [
    "#### In ithe new pivot table we have lot of value is NAN so conver all the NAN value into zero"
   ]
  },
  {
   "cell_type": "code",
   "execution_count": 216,
   "metadata": {},
   "outputs": [],
   "source": [
    "pvt_table=pvt_table.fillna(0)"
   ]
  },
  {
   "cell_type": "code",
   "execution_count": 217,
   "metadata": {},
   "outputs": [
    {
     "name": "stdout",
     "output_type": "stream",
     "text": [
      "movieId  1       2       3       4       5       6       7       8       \\\n",
      "userId                                                                    \n",
      "1           4.0     0.0     4.0     0.0     0.0     4.0     0.0     0.0   \n",
      "2           0.0     0.0     0.0     0.0     0.0     0.0     0.0     0.0   \n",
      "3           0.0     0.0     0.0     0.0     0.0     0.0     0.0     0.0   \n",
      "4           0.0     0.0     0.0     0.0     0.0     0.0     0.0     0.0   \n",
      "5           4.0     0.0     0.0     0.0     0.0     0.0     0.0     0.0   \n",
      "6           0.0     4.0     5.0     3.0     5.0     4.0     4.0     3.0   \n",
      "7           4.5     0.0     0.0     0.0     0.0     0.0     0.0     0.0   \n",
      "8           0.0     4.0     0.0     0.0     0.0     0.0     0.0     0.0   \n",
      "9           0.0     0.0     0.0     0.0     0.0     0.0     0.0     0.0   \n",
      "10          0.0     0.0     0.0     0.0     0.0     0.0     0.0     0.0   \n",
      "11          0.0     0.0     0.0     0.0     0.0     5.0     0.0     0.0   \n",
      "12          0.0     0.0     0.0     0.0     0.0     0.0     0.0     0.0   \n",
      "13          0.0     0.0     0.0     0.0     0.0     0.0     0.0     0.0   \n",
      "14          0.0     0.0     0.0     3.0     0.0     0.0     3.0     0.0   \n",
      "15          2.5     0.0     0.0     0.0     0.0     0.0     0.0     0.0   \n",
      "16          0.0     0.0     0.0     0.0     0.0     0.0     0.0     0.0   \n",
      "17          4.5     0.0     0.0     0.0     0.0     0.0     0.0     0.0   \n",
      "18          3.5     3.0     0.0     0.0     0.0     4.0     0.0     0.0   \n",
      "19          4.0     3.0     3.0     0.0     0.0     0.0     2.0     0.0   \n",
      "20          0.0     3.0     0.0     0.0     0.0     0.0     0.0     1.0   \n",
      "21          3.5     3.5     0.0     0.0     0.0     0.0     0.0     0.0   \n",
      "22          0.0     0.0     0.0     0.0     0.0     0.0     0.0     0.0   \n",
      "23          0.0     0.0     0.0     0.0     0.0     4.0     0.0     0.0   \n",
      "24          0.0     0.0     0.0     0.0     0.0     4.5     0.0     0.0   \n",
      "25          0.0     0.0     0.0     0.0     0.0     0.0     0.0     0.0   \n",
      "26          0.0     0.0     0.0     0.0     0.0     0.0     0.0     0.0   \n",
      "27          3.0     4.0     0.0     0.0     0.0     0.0     0.0     0.0   \n",
      "28          0.0     0.0     0.0     0.0     0.0     3.5     0.0     0.0   \n",
      "29          0.0     0.0     0.0     0.0     0.0     0.0     0.0     0.0   \n",
      "30          0.0     0.0     0.0     0.0     0.0     0.0     0.0     0.0   \n",
      "...         ...     ...     ...     ...     ...     ...     ...     ...   \n",
      "581         0.0     0.0     0.0     0.0     0.0     0.0     0.0     0.0   \n",
      "582         0.0     0.0     0.0     0.0     0.0     0.0     0.0     0.0   \n",
      "583         0.0     0.0     0.0     0.0     0.0     0.0     0.0     0.0   \n",
      "584         5.0     0.0     0.0     0.0     0.0     0.0     0.0     0.0   \n",
      "585         0.0     0.0     0.0     0.0     0.0     0.0     0.0     0.0   \n",
      "586         0.0     4.0     0.0     0.0     0.0     0.0     0.0     0.0   \n",
      "587         5.0     0.0     0.0     0.0     0.0     0.0     0.0     0.0   \n",
      "588         0.0     0.0     3.0     0.0     0.0     5.0     0.0     0.0   \n",
      "589         0.0     0.0     0.0     0.0     0.0     0.0     0.0     0.0   \n",
      "590         4.0     2.5     3.0     0.0     2.0     3.5     0.0     0.0   \n",
      "591         0.0     0.0     0.0     0.0     0.0     0.0     0.0     0.0   \n",
      "592         0.0     4.0     0.0     0.0     0.0     3.0     0.0     0.0   \n",
      "593         0.0     0.0     0.0     0.0     0.0     0.0     0.0     0.0   \n",
      "594         0.0     4.0     4.0     0.0     0.0     0.0     0.0     0.0   \n",
      "595         0.0     0.0     0.0     0.0     0.0     0.0     0.0     0.0   \n",
      "596         4.0     0.0     0.0     0.0     0.0     0.0     0.0     0.0   \n",
      "597         4.0     0.0     0.0     0.0     0.0     3.0     1.0     0.0   \n",
      "598         0.0     0.0     0.0     0.0     0.0     0.0     0.0     0.0   \n",
      "599         3.0     2.5     1.5     0.0     0.0     4.5     2.5     0.0   \n",
      "600         2.5     4.0     0.0     1.5     2.5     0.0     3.5     0.0   \n",
      "601         4.0     0.0     0.0     0.0     0.0     0.0     0.0     0.0   \n",
      "602         0.0     4.0     0.0     0.0     0.0     3.0     0.0     0.0   \n",
      "603         4.0     0.0     0.0     0.0     0.0     4.0     0.0     0.0   \n",
      "604         3.0     5.0     0.0     0.0     3.0     3.0     0.0     0.0   \n",
      "605         4.0     3.5     0.0     0.0     0.0     0.0     0.0     0.0   \n",
      "606         2.5     0.0     0.0     0.0     0.0     0.0     2.5     0.0   \n",
      "607         4.0     0.0     0.0     0.0     0.0     0.0     0.0     0.0   \n",
      "608         2.5     2.0     2.0     0.0     0.0     0.0     0.0     0.0   \n",
      "609         3.0     0.0     0.0     0.0     0.0     0.0     0.0     0.0   \n",
      "610         5.0     0.0     0.0     0.0     0.0     5.0     0.0     0.0   \n",
      "\n",
      "movieId  9       10      ...  193565  193567  193571  193573  193579  193581  \\\n",
      "userId                   ...                                                   \n",
      "1           0.0     0.0  ...     0.0     0.0     0.0     0.0     0.0     0.0   \n",
      "2           0.0     0.0  ...     0.0     0.0     0.0     0.0     0.0     0.0   \n",
      "3           0.0     0.0  ...     0.0     0.0     0.0     0.0     0.0     0.0   \n",
      "4           0.0     0.0  ...     0.0     0.0     0.0     0.0     0.0     0.0   \n",
      "5           0.0     0.0  ...     0.0     0.0     0.0     0.0     0.0     0.0   \n",
      "6           0.0     3.0  ...     0.0     0.0     0.0     0.0     0.0     0.0   \n",
      "7           0.0     0.0  ...     0.0     0.0     0.0     0.0     0.0     0.0   \n",
      "8           0.0     2.0  ...     0.0     0.0     0.0     0.0     0.0     0.0   \n",
      "9           0.0     0.0  ...     0.0     0.0     0.0     0.0     0.0     0.0   \n",
      "10          0.0     0.0  ...     0.0     0.0     0.0     0.0     0.0     0.0   \n",
      "11          0.0     3.0  ...     0.0     0.0     0.0     0.0     0.0     0.0   \n",
      "12          0.0     0.0  ...     0.0     0.0     0.0     0.0     0.0     0.0   \n",
      "13          0.0     0.0  ...     0.0     0.0     0.0     0.0     0.0     0.0   \n",
      "14          0.0     0.0  ...     0.0     0.0     0.0     0.0     0.0     0.0   \n",
      "15          0.0     0.0  ...     0.0     0.0     0.0     0.0     0.0     0.0   \n",
      "16          0.0     0.0  ...     0.0     0.0     0.0     0.0     0.0     0.0   \n",
      "17          0.0     0.0  ...     0.0     0.0     0.0     0.0     0.0     0.0   \n",
      "18          0.0     0.0  ...     0.0     0.0     0.0     0.0     0.0     0.0   \n",
      "19          0.0     2.0  ...     0.0     0.0     0.0     0.0     0.0     0.0   \n",
      "20          0.0     0.0  ...     0.0     0.0     0.0     0.0     0.0     0.0   \n",
      "21          0.0     5.0  ...     0.0     0.0     0.0     0.0     0.0     0.0   \n",
      "22          0.0     0.0  ...     0.0     0.0     0.0     0.0     0.0     0.0   \n",
      "23          0.0     0.0  ...     0.0     0.0     0.0     0.0     0.0     0.0   \n",
      "24          0.0     0.0  ...     0.0     0.0     0.0     0.0     0.0     0.0   \n",
      "25          0.0     0.0  ...     0.0     0.0     0.0     0.0     0.0     0.0   \n",
      "26          0.0     3.0  ...     0.0     0.0     0.0     0.0     0.0     0.0   \n",
      "27          0.0     0.0  ...     0.0     0.0     0.0     0.0     0.0     0.0   \n",
      "28          0.0     0.0  ...     0.0     0.0     0.0     0.0     0.0     0.0   \n",
      "29          0.0     0.0  ...     0.0     0.0     0.0     0.0     0.0     0.0   \n",
      "30          0.0     0.0  ...     0.0     0.0     0.0     0.0     0.0     0.0   \n",
      "...         ...     ...  ...     ...     ...     ...     ...     ...     ...   \n",
      "581         0.0     0.0  ...     0.0     0.0     0.0     0.0     0.0     0.0   \n",
      "582         0.0     0.0  ...     0.0     0.0     0.0     0.0     0.0     0.0   \n",
      "583         0.0     0.0  ...     0.0     0.0     0.0     0.0     0.0     0.0   \n",
      "584         0.0     5.0  ...     0.0     0.0     0.0     0.0     0.0     0.0   \n",
      "585         0.0     0.0  ...     0.0     0.0     0.0     0.0     0.0     0.0   \n",
      "586         0.0     0.0  ...     0.0     0.0     0.0     0.0     0.0     0.0   \n",
      "587         0.0     0.0  ...     0.0     0.0     0.0     0.0     0.0     0.0   \n",
      "588         0.0     3.0  ...     0.0     0.0     0.0     0.0     0.0     0.0   \n",
      "589         0.0     0.0  ...     0.0     0.0     0.0     0.0     0.0     0.0   \n",
      "590         0.0     3.5  ...     0.0     0.0     0.0     0.0     0.0     0.0   \n",
      "591         0.0     0.0  ...     0.0     0.0     0.0     0.0     0.0     0.0   \n",
      "592         0.0     3.0  ...     0.0     0.0     0.0     0.0     0.0     0.0   \n",
      "593         0.0     0.0  ...     0.0     0.0     0.0     0.0     0.0     0.0   \n",
      "594         0.0     0.0  ...     0.0     0.0     0.0     0.0     0.0     0.0   \n",
      "595         0.0     0.0  ...     0.0     0.0     0.0     0.0     0.0     0.0   \n",
      "596         0.0     0.0  ...     0.0     0.0     0.0     0.0     0.0     0.0   \n",
      "597         0.0     3.0  ...     0.0     0.0     0.0     0.0     0.0     0.0   \n",
      "598         0.0     0.0  ...     0.0     0.0     0.0     0.0     0.0     0.0   \n",
      "599         1.5     3.5  ...     0.0     0.0     0.0     0.0     0.0     0.0   \n",
      "600         0.0     0.0  ...     0.0     0.0     0.0     0.0     0.0     0.0   \n",
      "601         0.0     0.0  ...     0.0     0.0     0.0     0.0     0.0     0.0   \n",
      "602         0.0     3.0  ...     0.0     0.0     0.0     0.0     0.0     0.0   \n",
      "603         0.0     0.0  ...     0.0     0.0     0.0     0.0     0.0     0.0   \n",
      "604         0.0     0.0  ...     0.0     0.0     0.0     0.0     0.0     0.0   \n",
      "605         0.0     0.0  ...     0.0     0.0     0.0     0.0     0.0     0.0   \n",
      "606         0.0     0.0  ...     0.0     0.0     0.0     0.0     0.0     0.0   \n",
      "607         0.0     0.0  ...     0.0     0.0     0.0     0.0     0.0     0.0   \n",
      "608         0.0     4.0  ...     0.0     0.0     0.0     0.0     0.0     0.0   \n",
      "609         0.0     4.0  ...     0.0     0.0     0.0     0.0     0.0     0.0   \n",
      "610         0.0     0.0  ...     0.0     0.0     0.0     0.0     0.0     0.0   \n",
      "\n",
      "movieId  193583  193585  193587  193609  \n",
      "userId                                   \n",
      "1           0.0     0.0     0.0     0.0  \n",
      "2           0.0     0.0     0.0     0.0  \n",
      "3           0.0     0.0     0.0     0.0  \n",
      "4           0.0     0.0     0.0     0.0  \n",
      "5           0.0     0.0     0.0     0.0  \n",
      "6           0.0     0.0     0.0     0.0  \n",
      "7           0.0     0.0     0.0     0.0  \n",
      "8           0.0     0.0     0.0     0.0  \n",
      "9           0.0     0.0     0.0     0.0  \n",
      "10          0.0     0.0     0.0     0.0  \n",
      "11          0.0     0.0     0.0     0.0  \n",
      "12          0.0     0.0     0.0     0.0  \n",
      "13          0.0     0.0     0.0     0.0  \n",
      "14          0.0     0.0     0.0     0.0  \n",
      "15          0.0     0.0     0.0     0.0  \n",
      "16          0.0     0.0     0.0     0.0  \n",
      "17          0.0     0.0     0.0     0.0  \n",
      "18          0.0     0.0     0.0     0.0  \n",
      "19          0.0     0.0     0.0     0.0  \n",
      "20          0.0     0.0     0.0     0.0  \n",
      "21          0.0     0.0     0.0     0.0  \n",
      "22          0.0     0.0     0.0     0.0  \n",
      "23          0.0     0.0     0.0     0.0  \n",
      "24          0.0     0.0     0.0     0.0  \n",
      "25          0.0     0.0     0.0     0.0  \n",
      "26          0.0     0.0     0.0     0.0  \n",
      "27          0.0     0.0     0.0     0.0  \n",
      "28          0.0     0.0     0.0     0.0  \n",
      "29          0.0     0.0     0.0     0.0  \n",
      "30          0.0     0.0     0.0     0.0  \n",
      "...         ...     ...     ...     ...  \n",
      "581         0.0     0.0     0.0     0.0  \n",
      "582         0.0     0.0     0.0     0.0  \n",
      "583         0.0     0.0     0.0     0.0  \n",
      "584         0.0     0.0     0.0     0.0  \n",
      "585         0.0     0.0     0.0     0.0  \n",
      "586         0.0     0.0     0.0     0.0  \n",
      "587         0.0     0.0     0.0     0.0  \n",
      "588         0.0     0.0     0.0     0.0  \n",
      "589         0.0     0.0     0.0     0.0  \n",
      "590         0.0     0.0     0.0     0.0  \n",
      "591         0.0     0.0     0.0     0.0  \n",
      "592         0.0     0.0     0.0     0.0  \n",
      "593         0.0     0.0     0.0     0.0  \n",
      "594         0.0     0.0     0.0     0.0  \n",
      "595         0.0     0.0     0.0     0.0  \n",
      "596         0.0     0.0     0.0     0.0  \n",
      "597         0.0     0.0     0.0     0.0  \n",
      "598         0.0     0.0     0.0     0.0  \n",
      "599         0.0     0.0     0.0     0.0  \n",
      "600         0.0     0.0     0.0     0.0  \n",
      "601         0.0     0.0     0.0     0.0  \n",
      "602         0.0     0.0     0.0     0.0  \n",
      "603         0.0     0.0     0.0     0.0  \n",
      "604         0.0     0.0     0.0     0.0  \n",
      "605         0.0     0.0     0.0     0.0  \n",
      "606         0.0     0.0     0.0     0.0  \n",
      "607         0.0     0.0     0.0     0.0  \n",
      "608         0.0     0.0     0.0     0.0  \n",
      "609         0.0     0.0     0.0     0.0  \n",
      "610         0.0     0.0     0.0     0.0  \n",
      "\n",
      "[610 rows x 9724 columns]\n"
     ]
    }
   ],
   "source": [
    "print(pvt_table)"
   ]
  },
  {
   "cell_type": "markdown",
   "metadata": {},
   "source": [
    "#### As we know pandas is built on Numpy so better we will convert it into numpy format for faster execution"
   ]
  },
  {
   "cell_type": "code",
   "execution_count": 218,
   "metadata": {},
   "outputs": [
    {
     "name": "stderr",
     "output_type": "stream",
     "text": [
      "C:\\Users\\Sanjeev\\Anaconda3\\lib\\site-packages\\ipykernel_launcher.py:1: FutureWarning: Method .as_matrix will be removed in a future version. Use .values instead.\n",
      "  \"\"\"Entry point for launching an IPython kernel.\n"
     ]
    }
   ],
   "source": [
    "data_matrix=pvt_table.as_matrix()"
   ]
  },
  {
   "cell_type": "code",
   "execution_count": 219,
   "metadata": {},
   "outputs": [
    {
     "data": {
      "text/plain": [
       "array([[4. , 0. , 4. , ..., 0. , 0. , 0. ],\n",
       "       [0. , 0. , 0. , ..., 0. , 0. , 0. ],\n",
       "       [0. , 0. , 0. , ..., 0. , 0. , 0. ],\n",
       "       ...,\n",
       "       [2.5, 2. , 2. , ..., 0. , 0. , 0. ],\n",
       "       [3. , 0. , 0. , ..., 0. , 0. , 0. ],\n",
       "       [5. , 0. , 0. , ..., 0. , 0. , 0. ]])"
      ]
     },
     "execution_count": 219,
     "metadata": {},
     "output_type": "execute_result"
    }
   ],
   "source": [
    "data_matrix"
   ]
  },
  {
   "cell_type": "markdown",
   "metadata": {},
   "source": [
    "### Recomendation engine for content based filtering"
   ]
  },
  {
   "cell_type": "markdown",
   "metadata": {},
   "source": [
    "#### 1.  User - user similiraty matrix"
   ]
  },
  {
   "cell_type": "code",
   "execution_count": 220,
   "metadata": {},
   "outputs": [],
   "source": [
    "from scipy.spatial.distance import cosine"
   ]
  },
  {
   "cell_type": "code",
   "execution_count": 221,
   "metadata": {},
   "outputs": [],
   "source": [
    "m,n=data_matrix.shape"
   ]
  },
  {
   "cell_type": "code",
   "execution_count": 222,
   "metadata": {},
   "outputs": [
    {
     "data": {
      "text/plain": [
       "610"
      ]
     },
     "execution_count": 222,
     "metadata": {},
     "output_type": "execute_result"
    }
   ],
   "source": [
    "m"
   ]
  },
  {
   "cell_type": "code",
   "execution_count": 223,
   "metadata": {},
   "outputs": [
    {
     "data": {
      "text/plain": [
       "9724"
      ]
     },
     "execution_count": 223,
     "metadata": {},
     "output_type": "execute_result"
    }
   ],
   "source": [
    "n"
   ]
  },
  {
   "cell_type": "code",
   "execution_count": 224,
   "metadata": {},
   "outputs": [
    {
     "data": {
      "text/plain": [
       "array([[4. , 0. , 4. , ..., 0. , 0. , 0. ],\n",
       "       [0. , 0. , 0. , ..., 0. , 0. , 0. ],\n",
       "       [0. , 0. , 0. , ..., 0. , 0. , 0. ],\n",
       "       ...,\n",
       "       [2.5, 2. , 2. , ..., 0. , 0. , 0. ],\n",
       "       [3. , 0. , 0. , ..., 0. , 0. , 0. ],\n",
       "       [5. , 0. , 0. , ..., 0. , 0. , 0. ]])"
      ]
     },
     "execution_count": 224,
     "metadata": {},
     "output_type": "execute_result"
    }
   ],
   "source": [
    "data_matrix"
   ]
  },
  {
   "cell_type": "markdown",
   "metadata": {},
   "source": [
    "#### User Similiraty matrix"
   ]
  },
  {
   "cell_type": "code",
   "execution_count": 225,
   "metadata": {},
   "outputs": [],
   "source": [
    "mat_users=np.zeros((m,m))"
   ]
  },
  {
   "cell_type": "code",
   "execution_count": 226,
   "metadata": {},
   "outputs": [
    {
     "data": {
      "text/plain": [
       "array([[0., 0., 0., ..., 0., 0., 0.],\n",
       "       [0., 0., 0., ..., 0., 0., 0.],\n",
       "       [0., 0., 0., ..., 0., 0., 0.],\n",
       "       ...,\n",
       "       [0., 0., 0., ..., 0., 0., 0.],\n",
       "       [0., 0., 0., ..., 0., 0., 0.],\n",
       "       [0., 0., 0., ..., 0., 0., 0.]])"
      ]
     },
     "execution_count": 226,
     "metadata": {},
     "output_type": "execute_result"
    }
   ],
   "source": [
    "mat_users"
   ]
  },
  {
   "cell_type": "code",
   "execution_count": 227,
   "metadata": {},
   "outputs": [],
   "source": [
    "for i in range(m):\n",
    "    for j in range(m):\n",
    "        if i!=j:\n",
    "            mat_users[i][j]=(1-cosine(data_matrix[i,:],data_matrix[j,:]))\n",
    "        else:\n",
    "            mat_users[i][j]=0\n",
    "            "
   ]
  },
  {
   "cell_type": "code",
   "execution_count": 228,
   "metadata": {},
   "outputs": [],
   "source": [
    "pd_users=pd.DataFrame(mat_users, index=pvt_table.index, columns=pvt_table.index)"
   ]
  },
  {
   "cell_type": "markdown",
   "metadata": {},
   "source": [
    "#### Finding the similar users relevent to the cosine functionality"
   ]
  },
  {
   "cell_type": "code",
   "execution_count": 229,
   "metadata": {},
   "outputs": [
    {
     "name": "stdout",
     "output_type": "stream",
     "text": [
      "Similar users as user: 1\n",
      "           score\n",
      "userId          \n",
      "266     0.357408\n",
      "313     0.351562\n",
      "368     0.345127\n",
      "57      0.345034\n",
      "91      0.334727\n"
     ]
    }
   ],
   "source": [
    "def topSimUsers(uid=10,n=6):\n",
    "    users=pd_users.loc[uid,:].sort_values(ascending=False)\n",
    "    topn_users=users.iloc[:n,]\n",
    "    topn_users=topn_users.rename('score')\n",
    "    print(\"Similar users as user:\",uid)\n",
    "    return pd.DataFrame(topn_users)\n",
    "print(topSimUsers(uid=1,n=5))"
   ]
  },
  {
   "cell_type": "markdown",
   "metadata": {},
   "source": [
    "#### Most rated movies of the users "
   ]
  },
  {
   "cell_type": "code",
   "execution_count": 230,
   "metadata": {},
   "outputs": [
    {
     "name": "stdout",
     "output_type": "stream",
     "text": [
      "Top 5 movie ratings of users: 10\n",
      "      userId  movieId  rating                          title\n",
      "1258      10   140110     5.0              The Intern (2015)\n",
      "1167      10     8869     5.0          First Daughter (2004)\n",
      "1236      10    96079     5.0                 Skyfall (2012)\n",
      "1229      10    91529     5.0  Dark Knight Rises, The (2012)\n",
      "1161      10     7458     5.0                    Troy (2004)\n"
     ]
    }
   ],
   "source": [
    "def topRatedMovies(userid=50,n_ratings=10):\n",
    "    userid_ratings=df_mr.loc[df_mr[\"userId\"]==userid]\n",
    "    userid_ratings=userid_ratings.sort_values(by=\"rating\",ascending=[False])\n",
    "    print(\"Top\",n_ratings,\"movie ratings of users:\",userid)\n",
    "    return userid_ratings.iloc[:n_ratings,]\n",
    "print(topRatedMovies(userid=10,n_ratings=5))"
   ]
  },
  {
   "cell_type": "code",
   "execution_count": null,
   "metadata": {},
   "outputs": [],
   "source": []
  }
 ],
 "metadata": {
  "kernelspec": {
   "display_name": "Python 3",
   "language": "python",
   "name": "python3"
  },
  "language_info": {
   "codemirror_mode": {
    "name": "ipython",
    "version": 3
   },
   "file_extension": ".py",
   "mimetype": "text/x-python",
   "name": "python",
   "nbconvert_exporter": "python",
   "pygments_lexer": "ipython3",
   "version": "3.7.3"
  }
 },
 "nbformat": 4,
 "nbformat_minor": 2
}
