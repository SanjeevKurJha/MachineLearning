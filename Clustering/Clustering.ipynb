{
 "cells": [
  {
   "cell_type": "markdown",
   "metadata": {},
   "source": [
    "**Importing the Library**"
   ]
  },
  {
   "cell_type": "code",
   "execution_count": 70,
   "metadata": {},
   "outputs": [],
   "source": [
    "import pandas as pd\n",
    "import numpy as np\n",
    "from sklearn.preprocessing import MinMaxScaler\n",
    "from sklearn.model_selection import train_test_split\n",
    "from sklearn.cluster import KMeans\n",
    "import matplotlib.pyplot as plt\n",
    "from sklearn.metrics import silhouette_score\n",
    "import warnings\n",
    "warnings.filterwarnings('ignore')\n",
    "from IPython.core.interactiveshell import InteractiveShell\n",
    "InteractiveShell.ast_node_interactivity = \"all\"\n",
    "from sklearn.cluster import MeanShift, estimate_bandwidth"
   ]
  },
  {
   "cell_type": "markdown",
   "metadata": {},
   "source": [
    "**Importing data from folder and store it into data frame**"
   ]
  },
  {
   "cell_type": "code",
   "execution_count": 71,
   "metadata": {},
   "outputs": [],
   "source": [
    "df=pd.read_csv(\"cheese.csv\")"
   ]
  },
  {
   "cell_type": "markdown",
   "metadata": {},
   "source": [
    "**Exploratory Data Analysis**"
   ]
  },
  {
   "cell_type": "markdown",
   "metadata": {},
   "source": [
    "**Check the top 5 sample of the data frame , even we can check more by entering head(value), but by default it is 5**"
   ]
  },
  {
   "cell_type": "code",
   "execution_count": 72,
   "metadata": {},
   "outputs": [
    {
     "data": {
      "text/html": [
       "<div>\n",
       "<style scoped>\n",
       "    .dataframe tbody tr th:only-of-type {\n",
       "        vertical-align: middle;\n",
       "    }\n",
       "\n",
       "    .dataframe tbody tr th {\n",
       "        vertical-align: top;\n",
       "    }\n",
       "\n",
       "    .dataframe thead th {\n",
       "        text-align: right;\n",
       "    }\n",
       "</style>\n",
       "<table border=\"1\" class=\"dataframe\">\n",
       "  <thead>\n",
       "    <tr style=\"text-align: right;\">\n",
       "      <th></th>\n",
       "      <th>Unnamed: 0</th>\n",
       "      <th>RETAILER</th>\n",
       "      <th>VOLUME</th>\n",
       "      <th>DISP</th>\n",
       "      <th>PRICE</th>\n",
       "    </tr>\n",
       "  </thead>\n",
       "  <tbody>\n",
       "    <tr>\n",
       "      <th>0</th>\n",
       "      <td>1</td>\n",
       "      <td>LOS ANGELES - LUCKY</td>\n",
       "      <td>21374</td>\n",
       "      <td>0.162000</td>\n",
       "      <td>2.578460</td>\n",
       "    </tr>\n",
       "    <tr>\n",
       "      <th>1</th>\n",
       "      <td>2</td>\n",
       "      <td>LOS ANGELES - RALPHS</td>\n",
       "      <td>6427</td>\n",
       "      <td>0.124113</td>\n",
       "      <td>3.727867</td>\n",
       "    </tr>\n",
       "    <tr>\n",
       "      <th>2</th>\n",
       "      <td>3</td>\n",
       "      <td>LOS ANGELES - VONS</td>\n",
       "      <td>17302</td>\n",
       "      <td>0.102000</td>\n",
       "      <td>2.711421</td>\n",
       "    </tr>\n",
       "    <tr>\n",
       "      <th>3</th>\n",
       "      <td>4</td>\n",
       "      <td>CHICAGO - DOMINICK</td>\n",
       "      <td>13561</td>\n",
       "      <td>0.027591</td>\n",
       "      <td>2.651206</td>\n",
       "    </tr>\n",
       "    <tr>\n",
       "      <th>4</th>\n",
       "      <td>5</td>\n",
       "      <td>CHICAGO - JEWEL</td>\n",
       "      <td>42774</td>\n",
       "      <td>0.090613</td>\n",
       "      <td>1.986674</td>\n",
       "    </tr>\n",
       "  </tbody>\n",
       "</table>\n",
       "</div>"
      ],
      "text/plain": [
       "   Unnamed: 0              RETAILER  VOLUME      DISP     PRICE\n",
       "0           1   LOS ANGELES - LUCKY   21374  0.162000  2.578460\n",
       "1           2  LOS ANGELES - RALPHS    6427  0.124113  3.727867\n",
       "2           3    LOS ANGELES - VONS   17302  0.102000  2.711421\n",
       "3           4    CHICAGO - DOMINICK   13561  0.027591  2.651206\n",
       "4           5       CHICAGO - JEWEL   42774  0.090613  1.986674"
      ]
     },
     "execution_count": 72,
     "metadata": {},
     "output_type": "execute_result"
    }
   ],
   "source": [
    "df.head()"
   ]
  },
  {
   "cell_type": "markdown",
   "metadata": {},
   "source": [
    "**We can find the shape of the dataset**"
   ]
  },
  {
   "cell_type": "code",
   "execution_count": 73,
   "metadata": {},
   "outputs": [
    {
     "data": {
      "text/plain": [
       "(5555, 5)"
      ]
     },
     "execution_count": 73,
     "metadata": {},
     "output_type": "execute_result"
    },
    {
     "data": {
      "text/plain": [
       "27775"
      ]
     },
     "execution_count": 73,
     "metadata": {},
     "output_type": "execute_result"
    }
   ],
   "source": [
    "df.shape\n",
    "df.size"
   ]
  },
  {
   "cell_type": "markdown",
   "metadata": {},
   "source": [
    "**By describing the data we can easily get the below information**"
   ]
  },
  {
   "cell_type": "code",
   "execution_count": 74,
   "metadata": {},
   "outputs": [
    {
     "data": {
      "text/html": [
       "<div>\n",
       "<style scoped>\n",
       "    .dataframe tbody tr th:only-of-type {\n",
       "        vertical-align: middle;\n",
       "    }\n",
       "\n",
       "    .dataframe tbody tr th {\n",
       "        vertical-align: top;\n",
       "    }\n",
       "\n",
       "    .dataframe thead th {\n",
       "        text-align: right;\n",
       "    }\n",
       "</style>\n",
       "<table border=\"1\" class=\"dataframe\">\n",
       "  <thead>\n",
       "    <tr style=\"text-align: right;\">\n",
       "      <th></th>\n",
       "      <th>Unnamed: 0</th>\n",
       "      <th>VOLUME</th>\n",
       "      <th>DISP</th>\n",
       "      <th>PRICE</th>\n",
       "    </tr>\n",
       "  </thead>\n",
       "  <tbody>\n",
       "    <tr>\n",
       "      <th>count</th>\n",
       "      <td>5555.000000</td>\n",
       "      <td>5555.000000</td>\n",
       "      <td>5555.000000</td>\n",
       "      <td>5555.000000</td>\n",
       "    </tr>\n",
       "    <tr>\n",
       "      <th>mean</th>\n",
       "      <td>2778.000000</td>\n",
       "      <td>4771.243744</td>\n",
       "      <td>0.114277</td>\n",
       "      <td>2.868823</td>\n",
       "    </tr>\n",
       "    <tr>\n",
       "      <th>std</th>\n",
       "      <td>1603.734704</td>\n",
       "      <td>5967.917635</td>\n",
       "      <td>0.162289</td>\n",
       "      <td>0.531717</td>\n",
       "    </tr>\n",
       "    <tr>\n",
       "      <th>min</th>\n",
       "      <td>1.000000</td>\n",
       "      <td>231.000000</td>\n",
       "      <td>0.000000</td>\n",
       "      <td>1.319907</td>\n",
       "    </tr>\n",
       "    <tr>\n",
       "      <th>25%</th>\n",
       "      <td>1389.500000</td>\n",
       "      <td>1989.500000</td>\n",
       "      <td>0.000000</td>\n",
       "      <td>2.457262</td>\n",
       "    </tr>\n",
       "    <tr>\n",
       "      <th>50%</th>\n",
       "      <td>2778.000000</td>\n",
       "      <td>3408.000000</td>\n",
       "      <td>0.047368</td>\n",
       "      <td>2.703250</td>\n",
       "    </tr>\n",
       "    <tr>\n",
       "      <th>75%</th>\n",
       "      <td>4166.500000</td>\n",
       "      <td>5519.500000</td>\n",
       "      <td>0.166000</td>\n",
       "      <td>3.203279</td>\n",
       "    </tr>\n",
       "    <tr>\n",
       "      <th>max</th>\n",
       "      <td>5555.000000</td>\n",
       "      <td>148109.000000</td>\n",
       "      <td>1.000000</td>\n",
       "      <td>4.641757</td>\n",
       "    </tr>\n",
       "  </tbody>\n",
       "</table>\n",
       "</div>"
      ],
      "text/plain": [
       "        Unnamed: 0         VOLUME         DISP        PRICE\n",
       "count  5555.000000    5555.000000  5555.000000  5555.000000\n",
       "mean   2778.000000    4771.243744     0.114277     2.868823\n",
       "std    1603.734704    5967.917635     0.162289     0.531717\n",
       "min       1.000000     231.000000     0.000000     1.319907\n",
       "25%    1389.500000    1989.500000     0.000000     2.457262\n",
       "50%    2778.000000    3408.000000     0.047368     2.703250\n",
       "75%    4166.500000    5519.500000     0.166000     3.203279\n",
       "max    5555.000000  148109.000000     1.000000     4.641757"
      ]
     },
     "execution_count": 74,
     "metadata": {},
     "output_type": "execute_result"
    }
   ],
   "source": [
    "df.describe()"
   ]
  },
  {
   "cell_type": "markdown",
   "metadata": {},
   "source": [
    "**Find the data type**"
   ]
  },
  {
   "cell_type": "code",
   "execution_count": 75,
   "metadata": {},
   "outputs": [
    {
     "name": "stdout",
     "output_type": "stream",
     "text": [
      "<class 'pandas.core.frame.DataFrame'>\n",
      "RangeIndex: 5555 entries, 0 to 5554\n",
      "Data columns (total 5 columns):\n",
      "Unnamed: 0    5555 non-null int64\n",
      "RETAILER      5555 non-null object\n",
      "VOLUME        5555 non-null int64\n",
      "DISP          5555 non-null float64\n",
      "PRICE         5555 non-null float64\n",
      "dtypes: float64(2), int64(2), object(1)\n",
      "memory usage: 217.1+ KB\n"
     ]
    }
   ],
   "source": [
    "df.info()"
   ]
  },
  {
   "cell_type": "markdown",
   "metadata": {},
   "source": [
    "**As we can see from above data Retailer is the object type and it is categorical variable**"
   ]
  },
  {
   "cell_type": "code",
   "execution_count": 76,
   "metadata": {},
   "outputs": [
    {
     "data": {
      "text/html": [
       "<div>\n",
       "<style scoped>\n",
       "    .dataframe tbody tr th:only-of-type {\n",
       "        vertical-align: middle;\n",
       "    }\n",
       "\n",
       "    .dataframe tbody tr th {\n",
       "        vertical-align: top;\n",
       "    }\n",
       "\n",
       "    .dataframe thead th {\n",
       "        text-align: right;\n",
       "    }\n",
       "</style>\n",
       "<table border=\"1\" class=\"dataframe\">\n",
       "  <thead>\n",
       "    <tr style=\"text-align: right;\">\n",
       "      <th></th>\n",
       "      <th>DISP</th>\n",
       "      <th>PRICE</th>\n",
       "      <th>VOLUME</th>\n",
       "    </tr>\n",
       "    <tr>\n",
       "      <th>RETAILER</th>\n",
       "      <th></th>\n",
       "      <th></th>\n",
       "      <th></th>\n",
       "    </tr>\n",
       "  </thead>\n",
       "  <tbody>\n",
       "    <tr>\n",
       "      <th>ALBANY,NY - PRICE CHOPPER</th>\n",
       "      <td>0.000000</td>\n",
       "      <td>2.864821</td>\n",
       "      <td>717.0</td>\n",
       "    </tr>\n",
       "    <tr>\n",
       "      <th>ATLANTA - KROGER CO</th>\n",
       "      <td>0.030872</td>\n",
       "      <td>2.701700</td>\n",
       "      <td>4455.0</td>\n",
       "    </tr>\n",
       "    <tr>\n",
       "      <th>ATLANTA - WINN DIXIE</th>\n",
       "      <td>0.000000</td>\n",
       "      <td>2.692330</td>\n",
       "      <td>2848.0</td>\n",
       "    </tr>\n",
       "    <tr>\n",
       "      <th>BALTI/WASH - GIANT FOOD INC</th>\n",
       "      <td>0.000000</td>\n",
       "      <td>3.783658</td>\n",
       "      <td>4337.0</td>\n",
       "    </tr>\n",
       "    <tr>\n",
       "      <th>BALTI/WASH - SAFEWAY</th>\n",
       "      <td>0.000000</td>\n",
       "      <td>3.987125</td>\n",
       "      <td>3832.0</td>\n",
       "    </tr>\n",
       "    <tr>\n",
       "      <th>BALTI/WASH - SUPER FRESH</th>\n",
       "      <td>0.000000</td>\n",
       "      <td>3.823861</td>\n",
       "      <td>1132.5</td>\n",
       "    </tr>\n",
       "    <tr>\n",
       "      <th>BIRMINGHAM/MONTGOM - BRUNOS</th>\n",
       "      <td>0.202000</td>\n",
       "      <td>2.365171</td>\n",
       "      <td>10238.0</td>\n",
       "    </tr>\n",
       "    <tr>\n",
       "      <th>BIRMINGHAM/MONTGOM - KROGER</th>\n",
       "      <td>0.000000</td>\n",
       "      <td>2.386604</td>\n",
       "      <td>1948.5</td>\n",
       "    </tr>\n",
       "    <tr>\n",
       "      <th>BIRMINGHAM/MONTGOM - WINN DIXIE</th>\n",
       "      <td>0.026909</td>\n",
       "      <td>2.297595</td>\n",
       "      <td>5206.0</td>\n",
       "    </tr>\n",
       "    <tr>\n",
       "      <th>BOSTON - SHAWS</th>\n",
       "      <td>0.000000</td>\n",
       "      <td>2.446718</td>\n",
       "      <td>2676.0</td>\n",
       "    </tr>\n",
       "  </tbody>\n",
       "</table>\n",
       "</div>"
      ],
      "text/plain": [
       "                                     DISP     PRICE   VOLUME\n",
       "RETAILER                                                    \n",
       "ALBANY,NY - PRICE CHOPPER        0.000000  2.864821    717.0\n",
       "ATLANTA - KROGER CO              0.030872  2.701700   4455.0\n",
       "ATLANTA - WINN DIXIE             0.000000  2.692330   2848.0\n",
       "BALTI/WASH - GIANT FOOD INC      0.000000  3.783658   4337.0\n",
       "BALTI/WASH - SAFEWAY             0.000000  3.987125   3832.0\n",
       "BALTI/WASH - SUPER FRESH         0.000000  3.823861   1132.5\n",
       "BIRMINGHAM/MONTGOM - BRUNOS      0.202000  2.365171  10238.0\n",
       "BIRMINGHAM/MONTGOM - KROGER      0.000000  2.386604   1948.5\n",
       "BIRMINGHAM/MONTGOM - WINN DIXIE  0.026909  2.297595   5206.0\n",
       "BOSTON - SHAWS                   0.000000  2.446718   2676.0"
      ]
     },
     "execution_count": 76,
     "metadata": {},
     "output_type": "execute_result"
    },
    {
     "data": {
      "text/plain": [
       "(88, 3)"
      ]
     },
     "execution_count": 76,
     "metadata": {},
     "output_type": "execute_result"
    }
   ],
   "source": [
    "df_pivot = pd.pivot_table(df, values = ['VOLUME', 'DISP','PRICE'], index = 'RETAILER', aggfunc = np.median)\n",
    "df_pivot.head(10)\n",
    "df_pivot.shape"
   ]
  },
  {
   "cell_type": "markdown",
   "metadata": {},
   "source": [
    "**Scaled the feature by min max scaler in feature range 0,1 then transform it**"
   ]
  },
  {
   "cell_type": "code",
   "execution_count": 77,
   "metadata": {},
   "outputs": [
    {
     "data": {
      "text/plain": [
       "(88, 3)"
      ]
     },
     "execution_count": 77,
     "metadata": {},
     "output_type": "execute_result"
    }
   ],
   "source": [
    "scld = MinMaxScaler(feature_range=(0,1))\n",
    "arr_scld = scld.fit_transform(df_pivot)\n",
    "df_scld = pd.DataFrame(arr_scld, columns = df_pivot.columns)\n",
    "df_scld.shape"
   ]
  },
  {
   "cell_type": "code",
   "execution_count": 78,
   "metadata": {},
   "outputs": [
    {
     "data": {
      "text/html": [
       "<div>\n",
       "<style scoped>\n",
       "    .dataframe tbody tr th:only-of-type {\n",
       "        vertical-align: middle;\n",
       "    }\n",
       "\n",
       "    .dataframe tbody tr th {\n",
       "        vertical-align: top;\n",
       "    }\n",
       "\n",
       "    .dataframe thead th {\n",
       "        text-align: right;\n",
       "    }\n",
       "</style>\n",
       "<table border=\"1\" class=\"dataframe\">\n",
       "  <thead>\n",
       "    <tr style=\"text-align: right;\">\n",
       "      <th></th>\n",
       "      <th>DISP</th>\n",
       "      <th>PRICE</th>\n",
       "      <th>VOLUME</th>\n",
       "    </tr>\n",
       "  </thead>\n",
       "  <tbody>\n",
       "    <tr>\n",
       "      <th>0</th>\n",
       "      <td>0.000000</td>\n",
       "      <td>0.318908</td>\n",
       "      <td>0.017176</td>\n",
       "    </tr>\n",
       "    <tr>\n",
       "      <th>1</th>\n",
       "      <td>0.073857</td>\n",
       "      <td>0.250296</td>\n",
       "      <td>0.285807</td>\n",
       "    </tr>\n",
       "    <tr>\n",
       "      <th>2</th>\n",
       "      <td>0.000000</td>\n",
       "      <td>0.246355</td>\n",
       "      <td>0.170320</td>\n",
       "    </tr>\n",
       "    <tr>\n",
       "      <th>3</th>\n",
       "      <td>0.000000</td>\n",
       "      <td>0.705388</td>\n",
       "      <td>0.277327</td>\n",
       "    </tr>\n",
       "    <tr>\n",
       "      <th>4</th>\n",
       "      <td>0.000000</td>\n",
       "      <td>0.790969</td>\n",
       "      <td>0.241035</td>\n",
       "    </tr>\n",
       "  </tbody>\n",
       "</table>\n",
       "</div>"
      ],
      "text/plain": [
       "       DISP     PRICE    VOLUME\n",
       "0  0.000000  0.318908  0.017176\n",
       "1  0.073857  0.250296  0.285807\n",
       "2  0.000000  0.246355  0.170320\n",
       "3  0.000000  0.705388  0.277327\n",
       "4  0.000000  0.790969  0.241035"
      ]
     },
     "execution_count": 78,
     "metadata": {},
     "output_type": "execute_result"
    }
   ],
   "source": [
    "df_scld.head()"
   ]
  },
  {
   "cell_type": "code",
   "execution_count": 79,
   "metadata": {},
   "outputs": [
    {
     "data": {
      "text/html": [
       "<div>\n",
       "<style scoped>\n",
       "    .dataframe tbody tr th:only-of-type {\n",
       "        vertical-align: middle;\n",
       "    }\n",
       "\n",
       "    .dataframe tbody tr th {\n",
       "        vertical-align: top;\n",
       "    }\n",
       "\n",
       "    .dataframe thead th {\n",
       "        text-align: right;\n",
       "    }\n",
       "</style>\n",
       "<table border=\"1\" class=\"dataframe\">\n",
       "  <thead>\n",
       "    <tr style=\"text-align: right;\">\n",
       "      <th></th>\n",
       "      <th>DISP</th>\n",
       "      <th>PRICE</th>\n",
       "      <th>VOLUME</th>\n",
       "    </tr>\n",
       "  </thead>\n",
       "  <tbody>\n",
       "    <tr>\n",
       "      <th>count</th>\n",
       "      <td>88.000000</td>\n",
       "      <td>88.000000</td>\n",
       "      <td>88.000000</td>\n",
       "    </tr>\n",
       "    <tr>\n",
       "      <th>mean</th>\n",
       "      <td>0.201006</td>\n",
       "      <td>0.337239</td>\n",
       "      <td>0.252149</td>\n",
       "    </tr>\n",
       "    <tr>\n",
       "      <th>std</th>\n",
       "      <td>0.234245</td>\n",
       "      <td>0.214843</td>\n",
       "      <td>0.204063</td>\n",
       "    </tr>\n",
       "    <tr>\n",
       "      <th>min</th>\n",
       "      <td>0.000000</td>\n",
       "      <td>0.000000</td>\n",
       "      <td>0.000000</td>\n",
       "    </tr>\n",
       "    <tr>\n",
       "      <th>25%</th>\n",
       "      <td>0.000000</td>\n",
       "      <td>0.173638</td>\n",
       "      <td>0.105704</td>\n",
       "    </tr>\n",
       "    <tr>\n",
       "      <th>50%</th>\n",
       "      <td>0.099057</td>\n",
       "      <td>0.254668</td>\n",
       "      <td>0.217822</td>\n",
       "    </tr>\n",
       "    <tr>\n",
       "      <th>75%</th>\n",
       "      <td>0.343301</td>\n",
       "      <td>0.456079</td>\n",
       "      <td>0.326105</td>\n",
       "    </tr>\n",
       "    <tr>\n",
       "      <th>max</th>\n",
       "      <td>1.000000</td>\n",
       "      <td>1.000000</td>\n",
       "      <td>1.000000</td>\n",
       "    </tr>\n",
       "  </tbody>\n",
       "</table>\n",
       "</div>"
      ],
      "text/plain": [
       "            DISP      PRICE     VOLUME\n",
       "count  88.000000  88.000000  88.000000\n",
       "mean    0.201006   0.337239   0.252149\n",
       "std     0.234245   0.214843   0.204063\n",
       "min     0.000000   0.000000   0.000000\n",
       "25%     0.000000   0.173638   0.105704\n",
       "50%     0.099057   0.254668   0.217822\n",
       "75%     0.343301   0.456079   0.326105\n",
       "max     1.000000   1.000000   1.000000"
      ]
     },
     "execution_count": 79,
     "metadata": {},
     "output_type": "execute_result"
    }
   ],
   "source": [
    "df_scld.describe()"
   ]
  },
  {
   "cell_type": "markdown",
   "metadata": {},
   "source": [
    "**Find the number of clusters using elbow method**"
   ]
  },
  {
   "cell_type": "code",
   "execution_count": 80,
   "metadata": {},
   "outputs": [
    {
     "data": {
      "text/plain": [
       "KMeans(algorithm='auto', copy_x=True, init='k-means++', max_iter=300,\n",
       "    n_clusters=2, n_init=10, n_jobs=None, precompute_distances='auto',\n",
       "    random_state=None, tol=0.0001, verbose=0)"
      ]
     },
     "execution_count": 80,
     "metadata": {},
     "output_type": "execute_result"
    },
    {
     "data": {
      "text/plain": [
       "KMeans(algorithm='auto', copy_x=True, init='k-means++', max_iter=300,\n",
       "    n_clusters=3, n_init=10, n_jobs=None, precompute_distances='auto',\n",
       "    random_state=None, tol=0.0001, verbose=0)"
      ]
     },
     "execution_count": 80,
     "metadata": {},
     "output_type": "execute_result"
    },
    {
     "data": {
      "text/plain": [
       "KMeans(algorithm='auto', copy_x=True, init='k-means++', max_iter=300,\n",
       "    n_clusters=4, n_init=10, n_jobs=None, precompute_distances='auto',\n",
       "    random_state=None, tol=0.0001, verbose=0)"
      ]
     },
     "execution_count": 80,
     "metadata": {},
     "output_type": "execute_result"
    },
    {
     "data": {
      "text/plain": [
       "KMeans(algorithm='auto', copy_x=True, init='k-means++', max_iter=300,\n",
       "    n_clusters=5, n_init=10, n_jobs=None, precompute_distances='auto',\n",
       "    random_state=None, tol=0.0001, verbose=0)"
      ]
     },
     "execution_count": 80,
     "metadata": {},
     "output_type": "execute_result"
    },
    {
     "data": {
      "text/plain": [
       "KMeans(algorithm='auto', copy_x=True, init='k-means++', max_iter=300,\n",
       "    n_clusters=6, n_init=10, n_jobs=None, precompute_distances='auto',\n",
       "    random_state=None, tol=0.0001, verbose=0)"
      ]
     },
     "execution_count": 80,
     "metadata": {},
     "output_type": "execute_result"
    },
    {
     "data": {
      "text/plain": [
       "KMeans(algorithm='auto', copy_x=True, init='k-means++', max_iter=300,\n",
       "    n_clusters=7, n_init=10, n_jobs=None, precompute_distances='auto',\n",
       "    random_state=None, tol=0.0001, verbose=0)"
      ]
     },
     "execution_count": 80,
     "metadata": {},
     "output_type": "execute_result"
    },
    {
     "data": {
      "text/plain": [
       "KMeans(algorithm='auto', copy_x=True, init='k-means++', max_iter=300,\n",
       "    n_clusters=8, n_init=10, n_jobs=None, precompute_distances='auto',\n",
       "    random_state=None, tol=0.0001, verbose=0)"
      ]
     },
     "execution_count": 80,
     "metadata": {},
     "output_type": "execute_result"
    },
    {
     "data": {
      "text/plain": [
       "KMeans(algorithm='auto', copy_x=True, init='k-means++', max_iter=300,\n",
       "    n_clusters=9, n_init=10, n_jobs=None, precompute_distances='auto',\n",
       "    random_state=None, tol=0.0001, verbose=0)"
      ]
     },
     "execution_count": 80,
     "metadata": {},
     "output_type": "execute_result"
    }
   ],
   "source": [
    "num_of_clusters = range (2,10)\n",
    "sse = []\n",
    "\n",
    "for num_clusters in num_of_clusters:\n",
    "  clusters = KMeans(num_clusters)\n",
    "  clusters.fit(df_scld)\n",
    "  sse.append(clusters.inertia_/100)\n",
    "\n",
    "df_clusters = pd.DataFrame({'Cluster Numbers':num_of_clusters, 'Error_Term':sse})"
   ]
  },
  {
   "cell_type": "code",
   "execution_count": 81,
   "metadata": {},
   "outputs": [
    {
     "data": {
      "text/html": [
       "<div>\n",
       "<style scoped>\n",
       "    .dataframe tbody tr th:only-of-type {\n",
       "        vertical-align: middle;\n",
       "    }\n",
       "\n",
       "    .dataframe tbody tr th {\n",
       "        vertical-align: top;\n",
       "    }\n",
       "\n",
       "    .dataframe thead th {\n",
       "        text-align: right;\n",
       "    }\n",
       "</style>\n",
       "<table border=\"1\" class=\"dataframe\">\n",
       "  <thead>\n",
       "    <tr style=\"text-align: right;\">\n",
       "      <th></th>\n",
       "      <th>Cluster Numbers</th>\n",
       "      <th>Error_Term</th>\n",
       "    </tr>\n",
       "  </thead>\n",
       "  <tbody>\n",
       "    <tr>\n",
       "      <th>0</th>\n",
       "      <td>2</td>\n",
       "      <td>0.087082</td>\n",
       "    </tr>\n",
       "    <tr>\n",
       "      <th>1</th>\n",
       "      <td>3</td>\n",
       "      <td>0.063365</td>\n",
       "    </tr>\n",
       "    <tr>\n",
       "      <th>2</th>\n",
       "      <td>4</td>\n",
       "      <td>0.044077</td>\n",
       "    </tr>\n",
       "    <tr>\n",
       "      <th>3</th>\n",
       "      <td>5</td>\n",
       "      <td>0.036159</td>\n",
       "    </tr>\n",
       "    <tr>\n",
       "      <th>4</th>\n",
       "      <td>6</td>\n",
       "      <td>0.031035</td>\n",
       "    </tr>\n",
       "    <tr>\n",
       "      <th>5</th>\n",
       "      <td>7</td>\n",
       "      <td>0.026707</td>\n",
       "    </tr>\n",
       "    <tr>\n",
       "      <th>6</th>\n",
       "      <td>8</td>\n",
       "      <td>0.023180</td>\n",
       "    </tr>\n",
       "    <tr>\n",
       "      <th>7</th>\n",
       "      <td>9</td>\n",
       "      <td>0.020343</td>\n",
       "    </tr>\n",
       "  </tbody>\n",
       "</table>\n",
       "</div>"
      ],
      "text/plain": [
       "   Cluster Numbers  Error_Term\n",
       "0                2    0.087082\n",
       "1                3    0.063365\n",
       "2                4    0.044077\n",
       "3                5    0.036159\n",
       "4                6    0.031035\n",
       "5                7    0.026707\n",
       "6                8    0.023180\n",
       "7                9    0.020343"
      ]
     },
     "execution_count": 81,
     "metadata": {},
     "output_type": "execute_result"
    }
   ],
   "source": [
    "df_clusters"
   ]
  },
  {
   "cell_type": "markdown",
   "metadata": {},
   "source": [
    "**Elbow method**"
   ]
  },
  {
   "cell_type": "code",
   "execution_count": 82,
   "metadata": {},
   "outputs": [],
   "source": [
    "elbo_sse_ = []\n",
    "for k in range(1, 8):\n",
    "    kmeans = KMeans(n_clusters=k).fit(df_scld)\n",
    "    elbo_sse_.append([k, kmeans.inertia_])"
   ]
  },
  {
   "cell_type": "code",
   "execution_count": 83,
   "metadata": {},
   "outputs": [
    {
     "data": {
      "text/plain": [
       "[[1, 12.412280133757523],\n",
       " [2, 8.7082084423361668],\n",
       " [3, 6.3365045138896239],\n",
       " [4, 4.4076563702701295],\n",
       " [5, 3.5924375452480808],\n",
       " [6, 3.0696607301545482],\n",
       " [7, 2.6443575784664208]]"
      ]
     },
     "execution_count": 83,
     "metadata": {},
     "output_type": "execute_result"
    }
   ],
   "source": [
    "elbo_sse_"
   ]
  },
  {
   "cell_type": "code",
   "execution_count": 84,
   "metadata": {},
   "outputs": [
    {
     "data": {
      "image/png": "[encoded data removed]",
      "text/plain": [
       "<Figure size 432x288 with 1 Axes>"
      ]
     },
     "metadata": {
      "needs_background": "light"
     },
     "output_type": "display_data"
    }
   ],
   "source": [
    "plt.plot(pd.DataFrame(elbo_sse_)[0], pd.DataFrame(elbo_sse_)[1],marker = \"D\", color='green');\n",
    "plt.xlabel('Number of Clusters')\n",
    "plt.ylabel('SSE')\n",
    "plt.title('Find the optimal number of clusters')\n",
    "plt.show();"
   ]
  },
  {
   "cell_type": "markdown",
   "metadata": {},
   "source": [
    "**Silhouette Analysis**"
   ]
  },
  {
   "cell_type": "code",
   "execution_count": 85,
   "metadata": {},
   "outputs": [],
   "source": [
    "sse_ = []\n",
    "for k in range(2, 10):\n",
    "    kmeans = KMeans(n_clusters=k).fit(df_scld)\n",
    "    sse_.append([k, silhouette_score(df_scld, kmeans.labels_)])"
   ]
  },
  {
   "cell_type": "code",
   "execution_count": 86,
   "metadata": {},
   "outputs": [
    {
     "data": {
      "image/png": "[encoded data removed]",
      "text/plain": [
       "<Figure size 432x288 with 1 Axes>"
      ]
     },
     "metadata": {
      "needs_background": "light"
     },
     "output_type": "display_data"
    }
   ],
   "source": [
    "plt.plot(pd.DataFrame(sse_)[0], pd.DataFrame(sse_)[1],marker = \"D\", color='green');\n",
    "plt.xlabel('Number of Clusters')\n",
    "plt.ylabel('SSE')\n",
    "plt.title('Find the optimal number of clusters')\n",
    "plt.show();"
   ]
  },
  {
   "cell_type": "code",
   "execution_count": 87,
   "metadata": {},
   "outputs": [
    {
     "data": {
      "text/plain": [
       "KMeans(algorithm='auto', copy_x=True, init='k-means++', max_iter=300,\n",
       "    n_clusters=4, n_init=10, n_jobs=None, precompute_distances='auto',\n",
       "    random_state=None, tol=0.0001, verbose=0)"
      ]
     },
     "execution_count": 87,
     "metadata": {},
     "output_type": "execute_result"
    },
    {
     "data": {
      "text/plain": [
       "array([2, 2, 2, 1, 1, 1, 3, 2, 2, 2, 1, 2, 1, 1, 0, 2, 2, 0, 0, 3, 2, 2, 2,\n",
       "       2, 2, 1, 2, 1, 2, 1, 2, 2, 0, 1, 3, 1, 0, 0, 2, 2, 2, 3, 0, 1, 2, 2,\n",
       "       3, 3, 2, 0, 0, 2, 1, 1, 1, 0, 2, 2, 2, 1, 1, 1, 0, 1, 2, 2, 2, 2, 2,\n",
       "       2, 0, 0, 3, 0, 0, 1, 0, 2, 0, 1, 3, 1, 2, 0, 2, 2, 2, 1])"
      ]
     },
     "execution_count": 87,
     "metadata": {},
     "output_type": "execute_result"
    }
   ],
   "source": [
    "clusters = KMeans(4)\n",
    "clusters.fit(df_scld)\n",
    "clusters.labels_"
   ]
  },
  {
   "cell_type": "code",
   "execution_count": 88,
   "metadata": {},
   "outputs": [
    {
     "data": {
      "text/html": [
       "<div>\n",
       "<style scoped>\n",
       "    .dataframe tbody tr th:only-of-type {\n",
       "        vertical-align: middle;\n",
       "    }\n",
       "\n",
       "    .dataframe tbody tr th {\n",
       "        vertical-align: top;\n",
       "    }\n",
       "\n",
       "    .dataframe thead th {\n",
       "        text-align: right;\n",
       "    }\n",
       "</style>\n",
       "<table border=\"1\" class=\"dataframe\">\n",
       "  <thead>\n",
       "    <tr style=\"text-align: right;\">\n",
       "      <th></th>\n",
       "      <th>DISP</th>\n",
       "      <th>PRICE</th>\n",
       "      <th>VOLUME</th>\n",
       "      <th>Cluster</th>\n",
       "    </tr>\n",
       "    <tr>\n",
       "      <th>RETAILER</th>\n",
       "      <th></th>\n",
       "      <th></th>\n",
       "      <th></th>\n",
       "      <th></th>\n",
       "    </tr>\n",
       "  </thead>\n",
       "  <tbody>\n",
       "    <tr>\n",
       "      <th>ALBANY,NY - PRICE CHOPPER</th>\n",
       "      <td>0.000000</td>\n",
       "      <td>2.864821</td>\n",
       "      <td>717.0</td>\n",
       "      <td>2</td>\n",
       "    </tr>\n",
       "    <tr>\n",
       "      <th>ATLANTA - KROGER CO</th>\n",
       "      <td>0.030872</td>\n",
       "      <td>2.701700</td>\n",
       "      <td>4455.0</td>\n",
       "      <td>2</td>\n",
       "    </tr>\n",
       "    <tr>\n",
       "      <th>ATLANTA - WINN DIXIE</th>\n",
       "      <td>0.000000</td>\n",
       "      <td>2.692330</td>\n",
       "      <td>2848.0</td>\n",
       "      <td>2</td>\n",
       "    </tr>\n",
       "    <tr>\n",
       "      <th>BALTI/WASH - GIANT FOOD INC</th>\n",
       "      <td>0.000000</td>\n",
       "      <td>3.783658</td>\n",
       "      <td>4337.0</td>\n",
       "      <td>1</td>\n",
       "    </tr>\n",
       "    <tr>\n",
       "      <th>BALTI/WASH - SAFEWAY</th>\n",
       "      <td>0.000000</td>\n",
       "      <td>3.987125</td>\n",
       "      <td>3832.0</td>\n",
       "      <td>1</td>\n",
       "    </tr>\n",
       "  </tbody>\n",
       "</table>\n",
       "</div>"
      ],
      "text/plain": [
       "                                 DISP     PRICE  VOLUME  Cluster\n",
       "RETAILER                                                        \n",
       "ALBANY,NY - PRICE CHOPPER    0.000000  2.864821   717.0        2\n",
       "ATLANTA - KROGER CO          0.030872  2.701700  4455.0        2\n",
       "ATLANTA - WINN DIXIE         0.000000  2.692330  2848.0        2\n",
       "BALTI/WASH - GIANT FOOD INC  0.000000  3.783658  4337.0        1\n",
       "BALTI/WASH - SAFEWAY         0.000000  3.987125  3832.0        1"
      ]
     },
     "execution_count": 88,
     "metadata": {},
     "output_type": "execute_result"
    }
   ],
   "source": [
    "df_pivot['Cluster'] = clusters.labels_\n",
    "df_pivot.head()"
   ]
  },
  {
   "cell_type": "code",
   "execution_count": 89,
   "metadata": {},
   "outputs": [
    {
     "data": {
      "text/html": [
       "<div>\n",
       "<style scoped>\n",
       "    .dataframe tbody tr th:only-of-type {\n",
       "        vertical-align: middle;\n",
       "    }\n",
       "\n",
       "    .dataframe tbody tr th {\n",
       "        vertical-align: top;\n",
       "    }\n",
       "\n",
       "    .dataframe thead th {\n",
       "        text-align: right;\n",
       "    }\n",
       "</style>\n",
       "<table border=\"1\" class=\"dataframe\">\n",
       "  <thead>\n",
       "    <tr style=\"text-align: right;\">\n",
       "      <th></th>\n",
       "      <th>DISP</th>\n",
       "      <th>PRICE</th>\n",
       "      <th>VOLUME</th>\n",
       "      <th>Cluster</th>\n",
       "    </tr>\n",
       "    <tr>\n",
       "      <th>RETAILER</th>\n",
       "      <th></th>\n",
       "      <th></th>\n",
       "      <th></th>\n",
       "      <th></th>\n",
       "    </tr>\n",
       "  </thead>\n",
       "  <tbody>\n",
       "    <tr>\n",
       "      <th>SYRACUSE - WEGMANS</th>\n",
       "      <td>0.227423</td>\n",
       "      <td>3.459383</td>\n",
       "      <td>807.0</td>\n",
       "      <td>0</td>\n",
       "    </tr>\n",
       "    <tr>\n",
       "      <th>TAMPA/ST. PETE - KASH N KARRY</th>\n",
       "      <td>0.000000</td>\n",
       "      <td>2.877614</td>\n",
       "      <td>3797.0</td>\n",
       "      <td>2</td>\n",
       "    </tr>\n",
       "    <tr>\n",
       "      <th>TAMPA/ST. PETE - PUBLIX</th>\n",
       "      <td>0.036500</td>\n",
       "      <td>2.769338</td>\n",
       "      <td>5021.0</td>\n",
       "      <td>2</td>\n",
       "    </tr>\n",
       "    <tr>\n",
       "      <th>TAMPA/ST. PETE - WINN DIXIE</th>\n",
       "      <td>0.014416</td>\n",
       "      <td>2.599700</td>\n",
       "      <td>5169.0</td>\n",
       "      <td>2</td>\n",
       "    </tr>\n",
       "    <tr>\n",
       "      <th>WICHITA - DILLON COMPANIES</th>\n",
       "      <td>0.000000</td>\n",
       "      <td>3.378888</td>\n",
       "      <td>1187.5</td>\n",
       "      <td>1</td>\n",
       "    </tr>\n",
       "  </tbody>\n",
       "</table>\n",
       "</div>"
      ],
      "text/plain": [
       "                                   DISP     PRICE  VOLUME  Cluster\n",
       "RETAILER                                                          \n",
       "SYRACUSE - WEGMANS             0.227423  3.459383   807.0        0\n",
       "TAMPA/ST. PETE - KASH N KARRY  0.000000  2.877614  3797.0        2\n",
       "TAMPA/ST. PETE - PUBLIX        0.036500  2.769338  5021.0        2\n",
       "TAMPA/ST. PETE - WINN DIXIE    0.014416  2.599700  5169.0        2\n",
       "WICHITA - DILLON COMPANIES     0.000000  3.378888  1187.5        1"
      ]
     },
     "execution_count": 89,
     "metadata": {},
     "output_type": "execute_result"
    }
   ],
   "source": [
    "df_pivot.tail()"
   ]
  },
  {
   "cell_type": "code",
   "execution_count": 90,
   "metadata": {},
   "outputs": [
    {
     "data": {
      "text/html": [
       "<div>\n",
       "<style scoped>\n",
       "    .dataframe tbody tr th:only-of-type {\n",
       "        vertical-align: middle;\n",
       "    }\n",
       "\n",
       "    .dataframe tbody tr th {\n",
       "        vertical-align: top;\n",
       "    }\n",
       "\n",
       "    .dataframe thead th {\n",
       "        text-align: right;\n",
       "    }\n",
       "</style>\n",
       "<table border=\"1\" class=\"dataframe\">\n",
       "  <thead>\n",
       "    <tr style=\"text-align: right;\">\n",
       "      <th></th>\n",
       "      <th>DISP</th>\n",
       "      <th>PRICE</th>\n",
       "      <th>VOLUME</th>\n",
       "    </tr>\n",
       "    <tr>\n",
       "      <th>Cluster</th>\n",
       "      <th></th>\n",
       "      <th></th>\n",
       "      <th></th>\n",
       "    </tr>\n",
       "  </thead>\n",
       "  <tbody>\n",
       "    <tr>\n",
       "      <th>0</th>\n",
       "      <td>0.24</td>\n",
       "      <td>2.77</td>\n",
       "      <td>3463.58</td>\n",
       "    </tr>\n",
       "    <tr>\n",
       "      <th>1</th>\n",
       "      <td>0.05</td>\n",
       "      <td>3.56</td>\n",
       "      <td>3042.00</td>\n",
       "    </tr>\n",
       "    <tr>\n",
       "      <th>2</th>\n",
       "      <td>0.03</td>\n",
       "      <td>2.62</td>\n",
       "      <td>3374.33</td>\n",
       "    </tr>\n",
       "    <tr>\n",
       "      <th>3</th>\n",
       "      <td>0.08</td>\n",
       "      <td>2.75</td>\n",
       "      <td>10864.50</td>\n",
       "    </tr>\n",
       "  </tbody>\n",
       "</table>\n",
       "</div>"
      ],
      "text/plain": [
       "         DISP  PRICE    VOLUME\n",
       "Cluster                       \n",
       "0        0.24   2.77   3463.58\n",
       "1        0.05   3.56   3042.00\n",
       "2        0.03   2.62   3374.33\n",
       "3        0.08   2.75  10864.50"
      ]
     },
     "execution_count": 90,
     "metadata": {},
     "output_type": "execute_result"
    },
    {
     "data": {
      "text/plain": [
       "Cluster\n",
       "0    18\n",
       "1    23\n",
       "2    39\n",
       "3     8\n",
       "dtype: int64"
      ]
     },
     "execution_count": 90,
     "metadata": {},
     "output_type": "execute_result"
    }
   ],
   "source": [
    "clust_profile = pd.pivot_table(df_pivot, values = ['VOLUME', 'DISP','PRICE'], index = 'Cluster', aggfunc = np.mean)\n",
    "np.round(clust_profile,2)\n",
    "df_pivot.groupby('Cluster').size()"
   ]
  },
  {
   "cell_type": "code",
   "execution_count": null,
   "metadata": {},
   "outputs": [],
   "source": []
  }
 ],
 "metadata": {
  "kernelspec": {
   "display_name": "Python 3",
   "language": "python",
   "name": "python3"
  },
  "language_info": {
   "codemirror_mode": {
    "name": "ipython",
    "version": 3
   },
   "file_extension": ".py",
   "mimetype": "text/x-python",
   "name": "python",
   "nbconvert_exporter": "python",
   "pygments_lexer": "ipython3",
   "version": "3.7.0"
  }
 },
 "nbformat": 4,
 "nbformat_minor": 2
}
